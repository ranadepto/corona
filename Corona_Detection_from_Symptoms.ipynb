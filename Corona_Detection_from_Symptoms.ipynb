{
  "nbformat": 4,
  "nbformat_minor": 0,
  "metadata": {
    "colab": {
      "name": "Corona Detection from Symptoms",
      "provenance": [],
      "collapsed_sections": [
        "zgHtvY3pRWHy",
        "lK9HgGgoITOe",
        "9wRQya1-JUWQ",
        "QC4L1GpO7fvV",
        "PjuTvE-f5BL9",
        "zXycczAMUwvv",
        "ifeimsP8q7mW",
        "43TwY-nd7MxG",
        "_ofsy3xm-Soq",
        "1BwkVVGr_xnw",
        "WJ8FtncsUwTC",
        "RNvrt-bwVOuE",
        "3U0IPt_eVlns",
        "3-k0yPDiVx72",
        "244pSmdKK6nA",
        "BVkOGNL-sFke",
        "ikq9RDTMSHth",
        "7l9i5kbbTvpR",
        "kRal4XPxpztQ"
      ],
      "toc_visible": true
    },
    "kernelspec": {
      "name": "python3",
      "display_name": "Python 3"
    }
  },
  "cells": [
    {
      "cell_type": "markdown",
      "metadata": {
        "id": "ow-8e_EpRI57"
      },
      "source": [
        "# **Corona Detection from Symptoms**"
      ]
    },
    {
      "cell_type": "markdown",
      "metadata": {
        "id": "zgHtvY3pRWHy"
      },
      "source": [
        "# **<font color='darkblue'> 1. Get the Machine Ready </font>**"
      ]
    },
    {
      "cell_type": "markdown",
      "metadata": {
        "id": "VodJ4La0Jh7F"
      },
      "source": [
        "**Import libraries for dataset preparation, feature engineering, model training (Numpy, Scikit-learn)**\n",
        "\n",
        "We will build a simple Multi Layer Network with multiple hidden layers and one output layer. Before writing all the math functions required let’s import every module we’re gonna use in this project."
      ]
    },
    {
      "cell_type": "code",
      "metadata": {
        "id": "oPklatW6Q-9c"
      },
      "source": [
        "import numpy as np\n",
        "from sklearn.model_selection import train_test_split\n",
        "from sklearn.metrics import accuracy_score\n",
        "from urllib.request import urlopen, Request\n",
        "import csv\n",
        "\n",
        "from sklearn.linear_model import LinearRegression\n",
        "from sklearn.neighbors import KNeighborsRegressor\n",
        "from sklearn import model_selection, preprocessing, linear_model, naive_bayes, metrics, svm, decomposition, ensemble\n",
        "import xgboost\n",
        "from sklearn.model_selection import KFold\n",
        "from sklearn.model_selection import LeaveOneOut\n",
        "\n",
        "import matplotlib.pyplot as plt\n",
        "import plotly.graph_objects as go"
      ],
      "execution_count": null,
      "outputs": []
    },
    {
      "cell_type": "markdown",
      "metadata": {
        "id": "lK9HgGgoITOe"
      },
      "source": [
        "# **<font color='darkblue'> 2. Initialize Variables </font>**"
      ]
    },
    {
      "cell_type": "markdown",
      "metadata": {
        "id": "_WQU-j3cXr9J"
      },
      "source": [
        "These are the global variables that have been initialized here."
      ]
    },
    {
      "cell_type": "code",
      "metadata": {
        "id": "PUTRk4TbIdfo"
      },
      "source": [
        "max_data = 1000\n",
        "\n",
        "# ----- For MLNN -----\n",
        "epoch_mlnn = 30000\n",
        "alpha_mlnn = 0.05"
      ],
      "execution_count": null,
      "outputs": []
    },
    {
      "cell_type": "markdown",
      "metadata": {
        "id": "toTZUgLXLXXK"
      },
      "source": [
        "Few Test finding:\n",
        "\n",
        "*   data: 2000, epoch: 85000, alpha: .33,     78%\n",
        "*   data: 5000, epoch: 30000, alpha: .0043,    100%\n",
        "*   data: 20000, epoch: 30000, alpha: .0013,    100%\n",
        "*   data: 30000, epoch: 10000, alpha: .0015,    100%\n",
        "\n",
        "\n",
        "\n"
      ]
    },
    {
      "cell_type": "markdown",
      "metadata": {
        "id": "XUPvCMl4E7yd"
      },
      "source": [
        "Taking Sample inputs with 09 symptoms"
      ]
    },
    {
      "cell_type": "code",
      "metadata": {
        "id": "mWdDNImgE4Lu"
      },
      "source": [
        "symptoms_name=[\"Fever\",\"Tiredness\",\"Dry-Cough\",\"Difficulty-in-Breathing\",\"Sore-Throat\",\"Pains\",\"Nasal-Congestion\",\"Runny-Nose\",\"Diarrhea\"]\n",
        "user_input=[]\n",
        "user_input.append([0, 0, 0, 0, 0, 0, 0, 0, 0])\n",
        "user_input.append([1, 1, 1, 1, 1, 1, 1, 1, 1])\n",
        "user_input.append([1, 0, 1, 1, 0, 0, 1, 1, 1])\n",
        "user_input.append([1, 1, 1, 1, 1, 0, 1, 1, 1])\n",
        "user_input.append([1, 1, 1, 0, 0, 0, 0, 0, 1])"
      ],
      "execution_count": null,
      "outputs": []
    },
    {
      "cell_type": "markdown",
      "metadata": {
        "id": "9wRQya1-JUWQ"
      },
      "source": [
        "# **<font color='darkblue'> 3. Prepare Dataset </font>**\n"
      ]
    },
    {
      "cell_type": "markdown",
      "metadata": {
        "id": "UTjcRJviJdu7"
      },
      "source": [
        "### **<font color='mediumblue'> 3.1 Load Dataset </font>**\n",
        "\n",
        "**Dataset Source:** https://www.kaggle.com/iamhungundji/covid19-symptoms-checker"
      ]
    },
    {
      "cell_type": "code",
      "metadata": {
        "id": "X3x1JFCrh5_v",
        "outputId": "be3d71f0-b24c-44e0-c2f6-26aa2140f271",
        "colab": {
          "base_uri": "https://localhost:8080/",
          "height": 105
        }
      },
      "source": [
        "# Data Load from Source\n",
        "symptoms, labels = [], []\n",
        "data = urlopen('https://raw.githubusercontent.com/ranadepto/corona/master/Cleaned-Data.csv').read().decode('utf8').split(\"\\n\")\n",
        "csvreader = csv.reader(data)\n",
        "next(csvreader)\n",
        "\n",
        "none_data, severe_data, total_data = 0, 0, 0\n",
        "\n",
        "# Filter data from main dataset, considering 09 symptoms and taking only two types of severity (None, Severe)\n",
        "for i, line in enumerate(csvreader):\n",
        "    if (total_data==max_data):\n",
        "        break\n",
        "\n",
        "    '''\n",
        "      line[19]=Severity_Mild, line[20]=Severity_Moderate, line[21]=Severity_None, line[22]=Severity_Severe\n",
        "    '''\n",
        "\n",
        "    symtoms_count=0;\n",
        "    considered_symptoms = line[0:5] + line[6:10]  # ignoring the attribute none_sympton at line[5]\n",
        "    for number in considered_symptoms:\n",
        "        symtoms_count+=int(number)\n",
        "    # print(symtoms_count,\"\\n\")\n",
        "\n",
        "    # Filter Data\n",
        "    add_data = True\n",
        "    if(line[21]=='1' and symtoms_count<5 and (none_data/max_data)<.50):\n",
        "        none_data+=1\n",
        "    elif(line[22]=='1' and symtoms_count>5 and (severe_data/max_data)<.50):\n",
        "        severe_data+=1\n",
        "    else:\n",
        "        add_data = False\n",
        "\n",
        "    if(add_data):\n",
        "        total_data+=1\n",
        "        labels.append(line[21])\n",
        "        symptoms.append(considered_symptoms)\n",
        "\n",
        "print(\"none: \", none_data, \"\\tsevere: \", severe_data)\n",
        "print(\"Total data: \", len(symptoms))\n",
        "print(\"Labels\", labels)\n",
        "print(len(labels))"
      ],
      "execution_count": null,
      "outputs": [
        {
          "output_type": "stream",
          "text": [
            "none:  500 \tsevere:  500\n",
            "Total data:  1000\n",
            "Labels ['0', '0', '0', '0', '0', '0', '0', '0', '0', '0', '0', '0', '0', '0', '0', '0', '0', '0', '0', '0', '0', '0', '0', '0', '0', '0', '0', '0', '0', '0', '0', '0', '0', '0', '0', '0', '0', '0', '0', '0', '0', '0', '0', '0', '0', '0', '0', '0', '1', '1', '1', '0', '0', '0', '0', '0', '0', '1', '1', '1', '0', '0', '0', '1', '1', '1', '1', '1', '1', '1', '1', '1', '1', '1', '1', '0', '0', '0', '1', '1', '1', '1', '1', '1', '1', '1', '1', '1', '1', '1', '1', '1', '1', '1', '1', '1', '1', '1', '1', '1', '1', '1', '1', '1', '1', '1', '1', '1', '1', '1', '1', '1', '1', '1', '1', '1', '1', '1', '1', '1', '1', '1', '1', '1', '1', '1', '1', '1', '1', '1', '1', '1', '0', '0', '0', '0', '0', '0', '0', '0', '0', '0', '0', '0', '0', '0', '0', '0', '0', '0', '1', '1', '1', '0', '0', '0', '0', '0', '0', '1', '1', '1', '0', '0', '0', '1', '1', '1', '1', '1', '1', '1', '1', '1', '1', '1', '1', '0', '0', '0', '1', '1', '1', '1', '1', '1', '1', '1', '1', '1', '1', '1', '1', '1', '1', '1', '1', '1', '1', '1', '1', '1', '1', '1', '1', '1', '1', '1', '1', '1', '1', '1', '1', '1', '1', '1', '1', '1', '1', '1', '1', '1', '1', '1', '1', '1', '1', '1', '1', '1', '1', '1', '1', '1', '0', '0', '0', '0', '0', '0', '1', '1', '1', '0', '0', '0', '1', '1', '1', '1', '1', '1', '1', '1', '1', '1', '1', '1', '0', '0', '0', '1', '1', '1', '1', '1', '1', '1', '1', '1', '1', '1', '1', '1', '1', '1', '1', '1', '1', '1', '1', '1', '1', '1', '1', '1', '1', '1', '1', '1', '1', '1', '1', '1', '1', '1', '1', '1', '1', '1', '1', '1', '1', '1', '1', '1', '1', '1', '1', '1', '1', '1', '1', '1', '1', '0', '0', '0', '1', '1', '1', '1', '1', '1', '1', '1', '1', '1', '1', '1', '1', '1', '1', '1', '1', '1', '1', '1', '1', '1', '1', '1', '1', '1', '1', '1', '1', '1', '1', '1', '1', '1', '1', '1', '1', '1', '1', '1', '1', '1', '1', '1', '1', '1', '1', '1', '1', '1', '1', '1', '1', '1', '1', '1', '1', '1', '1', '1', '1', '1', '1', '1', '1', '1', '1', '1', '1', '1', '1', '1', '1', '1', '1', '1', '1', '1', '1', '1', '1', '1', '1', '1', '1', '1', '1', '1', '1', '1', '1', '1', '1', '1', '1', '1', '1', '1', '1', '1', '1', '1', '1', '1', '1', '1', '1', '1', '1', '1', '1', '1', '1', '1', '1', '1', '1', '0', '0', '0', '0', '0', '0', '0', '0', '0', '0', '0', '0', '0', '0', '0', '0', '0', '0', '0', '0', '0', '0', '0', '0', '0', '0', '0', '0', '0', '0', '0', '0', '0', '0', '0', '0', '0', '0', '0', '0', '0', '0', '0', '0', '0', '0', '0', '0', '1', '1', '1', '0', '0', '0', '0', '0', '0', '1', '1', '1', '0', '0', '0', '1', '1', '1', '1', '1', '1', '1', '1', '1', '1', '1', '1', '0', '0', '0', '1', '1', '1', '1', '1', '1', '1', '1', '1', '1', '1', '1', '1', '1', '1', '1', '1', '1', '1', '1', '1', '1', '1', '1', '1', '1', '1', '1', '1', '1', '1', '1', '1', '1', '1', '1', '1', '1', '1', '1', '1', '1', '1', '1', '1', '1', '1', '1', '1', '1', '1', '1', '1', '1', '0', '0', '0', '0', '0', '0', '0', '0', '0', '0', '0', '0', '0', '0', '0', '0', '0', '0', '1', '1', '1', '0', '0', '0', '0', '0', '0', '1', '1', '1', '0', '0', '0', '1', '1', '1', '1', '1', '1', '1', '1', '1', '1', '1', '1', '0', '0', '0', '1', '1', '1', '1', '1', '1', '1', '1', '1', '1', '1', '1', '1', '1', '1', '1', '1', '1', '1', '1', '1', '1', '1', '1', '1', '1', '1', '1', '1', '1', '1', '1', '1', '1', '1', '1', '1', '1', '1', '1', '1', '1', '1', '1', '1', '1', '1', '1', '1', '1', '1', '1', '1', '1', '0', '0', '0', '0', '0', '0', '1', '1', '1', '0', '0', '0', '1', '1', '1', '1', '1', '1', '1', '1', '1', '1', '1', '1', '0', '0', '0', '1', '1', '1', '1', '1', '1', '1', '1', '1', '1', '1', '0', '0', '0', '0', '0', '0', '0', '0', '0', '0', '0', '0', '0', '0', '0', '0', '0', '0', '0', '0', '0', '0', '0', '0', '0', '0', '0', '0', '0', '0', '0', '0', '0', '0', '0', '0', '0', '0', '0', '0', '0', '0', '0', '0', '0', '0', '0', '0', '0', '0', '0', '0', '0', '0', '0', '0', '0', '0', '0', '0', '0', '0', '0', '0', '0', '0', '0', '0', '0', '0', '0', '0', '0', '0', '0', '0', '0', '0', '0', '0', '0', '0', '0', '0', '0', '0', '0', '0', '0', '0', '0', '0', '0', '0', '0', '0', '0', '0', '0', '0', '0', '0', '0', '0', '0', '0', '0', '0', '0', '0', '0', '0', '0', '0', '0', '0', '0', '0', '0', '0', '0', '0', '0', '0', '0', '0', '0', '0', '0', '0', '0', '0', '0', '0', '0', '0', '0', '0', '0', '0', '0', '0', '0', '0', '0', '0', '0', '0', '0', '0', '0', '0', '0', '0', '0', '0', '0', '0', '0', '0', '0', '0', '0', '0', '0', '0', '0', '0', '0', '0', '0', '0', '0', '0', '0', '0', '0', '0', '0', '0', '0', '0', '0', '0', '0', '0', '0', '0', '0', '0', '0', '0', '0', '0', '0', '0', '0', '0', '0', '0', '0', '0', '0', '0', '0', '0', '0', '0', '0', '0', '0', '0', '0', '0', '0', '0', '0', '0', '0', '0', '0', '0', '0', '0', '0', '0', '0', '0', '0', '0', '0', '0', '0', '0', '0', '0', '0', '0', '0', '0', '0', '0', '0', '0', '0', '0', '0', '0', '0', '0', '0', '0', '0', '0', '0', '0', '0', '0', '0', '0', '0', '0', '0', '0', '0', '0', '0', '0', '0', '0', '0', '0', '0', '0', '0', '0', '0', '0', '0', '0', '0', '0', '0', '0', '0', '0', '0', '0', '0', '0', '0', '0', '0']\n",
            "1000\n"
          ],
          "name": "stdout"
        }
      ]
    },
    {
      "cell_type": "code",
      "metadata": {
        "id": "ZGZC6sNioUV4",
        "outputId": "37311fd5-a9a0-4877-cdca-c07474282743",
        "colab": {
          "base_uri": "https://localhost:8080/",
          "height": 170
        }
      },
      "source": [
        "# For Testing Purpose\n",
        "for i in range(9): \n",
        "    print(symptoms[i], \" | Labels ->\", labels[i]) "
      ],
      "execution_count": null,
      "outputs": [
        {
          "output_type": "stream",
          "text": [
            "['1', '1', '1', '1', '1', '1', '1', '1', '1']  | Labels -> 0\n",
            "['1', '1', '1', '1', '1', '1', '1', '1', '1']  | Labels -> 0\n",
            "['1', '1', '1', '1', '1', '1', '1', '1', '1']  | Labels -> 0\n",
            "['1', '1', '1', '1', '1', '1', '1', '1', '0']  | Labels -> 0\n",
            "['1', '1', '1', '1', '1', '1', '1', '1', '0']  | Labels -> 0\n",
            "['1', '1', '1', '1', '1', '1', '1', '1', '0']  | Labels -> 0\n",
            "['1', '1', '1', '1', '1', '1', '1', '0', '0']  | Labels -> 0\n",
            "['1', '1', '1', '1', '1', '1', '1', '0', '0']  | Labels -> 0\n",
            "['1', '1', '1', '1', '1', '1', '1', '0', '0']  | Labels -> 0\n"
          ],
          "name": "stdout"
        }
      ]
    },
    {
      "cell_type": "markdown",
      "metadata": {
        "id": "QC4L1GpO7fvV"
      },
      "source": [
        "### **<font color='mediumblue'> 3.2 Train Test Split </font>**\n",
        "\n",
        "Split the dataset to 80% training set and 20% validation/testing set."
      ]
    },
    {
      "cell_type": "code",
      "metadata": {
        "id": "ECMwYELP7dYq"
      },
      "source": [
        "symptoms_array=np.array(symptoms) \n",
        "labels_array=np.array(labels)\n",
        "\n",
        "X,Xt,y,yt=train_test_split(symptoms_array.astype(np.int),labels_array.astype(np.int),test_size=0.2,random_state=0)"
      ],
      "execution_count": null,
      "outputs": []
    },
    {
      "cell_type": "markdown",
      "metadata": {
        "id": "PjuTvE-f5BL9"
      },
      "source": [
        "# **<font color='darkblue'> 4. Multi Layer Neural Network </font>**"
      ]
    },
    {
      "cell_type": "markdown",
      "metadata": {
        "id": "zXycczAMUwvv"
      },
      "source": [
        "### **<font color='mediumblue'> 4.1 Create Network (MLNN) </font>**"
      ]
    },
    {
      "cell_type": "markdown",
      "metadata": {
        "id": "ifeimsP8q7mW"
      },
      "source": [
        "#### **Initialize Weights:**\n",
        "\n",
        "init() function will be used to create weight vectors depending on the number of neurons in the adjacent layers. We can initialise every weight with zero or lower values, which results in network having too little signals to work with. In the case of bigger values, it becomes too cumbersome for the network to deal with.\n",
        "\n",
        "So, initializing weights should always depend on the values your activation function uses to send signals through your network. The simple solution is that to initialize them with vectors having zero mean and one standard deviation, which statistically is normal distribution, as you can see in our code with randn() function. As the neuron in the adjacent layer receives values from all the neurons in the previous layer, they need to be rescaled with respect to the number of neurons in the input layer or the previous layer."
      ]
    },
    {
      "cell_type": "code",
      "metadata": {
        "id": "H9CxQeAjrI7H"
      },
      "source": [
        "def init(inp,out):\n",
        "    return np.random.randn(inp,out)/np.sqrt(inp)"
      ],
      "execution_count": null,
      "outputs": []
    },
    {
      "cell_type": "markdown",
      "metadata": {
        "id": "43TwY-nd7MxG"
      },
      "source": [
        "#### **Create Architecture:**\n",
        "\n",
        "create_arch_mlnn() function takes layers as an input and creates a fully \n",
        "connected neural network by initializing the link weights between neurons using our init() function.\n",
        "\n",
        "\n",
        "\n",
        "\n",
        "\n"
      ]
    },
    {
      "cell_type": "code",
      "metadata": {
        "id": "1YF2k-XV8F7g"
      },
      "source": [
        "def create_arch_mlnn(input_layer,first_layer,output_layer,random_seed=0):\n",
        "    np.random.seed(random_seed)\n",
        "    layers=X.shape[1],first_layer,1\n",
        "    arch=list(zip(layers[:-1],layers[1:]))\n",
        "    weights=[init(inp,out) for inp,out in arch]\n",
        "    return weights"
      ],
      "execution_count": null,
      "outputs": []
    },
    {
      "cell_type": "markdown",
      "metadata": {
        "id": "_ofsy3xm-Soq"
      },
      "source": [
        "#### **Activation Function:**\n",
        "\n",
        "Now that we have the architecture ready, we need to decide on the activation function which is used to fire a neuron. Here, we have applied activation functions:\n",
        "\n",
        "*   \"sigmoid\": it outputs between 0~1\n",
        "*   \"softmax\": it outputs between 0~1"
      ]
    },
    {
      "cell_type": "code",
      "metadata": {
        "id": "dEsjBQkX-e4y"
      },
      "source": [
        "def sigmoid(z):\n",
        "    return 1/(1+np.exp(-z))\n",
        "\n",
        "def sigmoid_derivative(s):\n",
        "    return s*(1-s)\n",
        "\n",
        "def softmax(scores):\n",
        "    exp = np.exp(scores)\n",
        "    scores = exp / np.sum(exp)\n",
        "    return scores"
      ],
      "execution_count": null,
      "outputs": []
    },
    {
      "cell_type": "code",
      "metadata": {
        "id": "Wlkq8Q9GHHcV",
        "outputId": "5316d4bc-a0e0-466a-d548-77108a50362a",
        "colab": {
          "base_uri": "https://localhost:8080/"
        }
      },
      "source": [
        "print(\"\\n sigmoid:\")\n",
        "print(sigmoid(17))\n",
        "print(sigmoid(18))\n",
        "print(sigmoid(0))\n",
        "print(sigmoid(-5))\n",
        "\n",
        "print(\"\\n sigmoid_derivative:\")\n",
        "print(sigmoid_derivative(17))\n",
        "print(sigmoid_derivative(18))\n",
        "print(sigmoid_derivative(0))\n",
        "print(sigmoid_derivative(-5))\n",
        "\n",
        "print(\"\\n softmax:\")\n",
        "print(softmax(17))\n",
        "print(softmax(18))\n",
        "print(softmax(0))\n",
        "print(softmax(-25))"
      ],
      "execution_count": null,
      "outputs": [
        {
          "output_type": "stream",
          "text": [
            "\n",
            " sigmoid:\n",
            "0.9999999586006244\n",
            "0.9999999847700205\n",
            "0.5\n",
            "0.0066928509242848554\n",
            "\n",
            " sigmoid_derivative:\n",
            "-272\n",
            "-306\n",
            "0\n",
            "-30\n",
            "\n",
            " softmax:\n",
            "1.0\n",
            "1.0\n",
            "1.0\n",
            "1.0\n"
          ],
          "name": "stdout"
        }
      ]
    },
    {
      "cell_type": "markdown",
      "metadata": {
        "id": "1BwkVVGr_xnw"
      },
      "source": [
        "#### **Feed Forward Network**\n",
        "\n",
        "We are all set to create a feed forward network with everything we have until now. In a feed forward network, we will multiply the input values with the weight vector and pass it to the activation function and return the output of the function."
      ]
    },
    {
      "cell_type": "code",
      "metadata": {
        "id": "1EXzsliJAGiv"
      },
      "source": [
        "def feed_forward(X,weights):\n",
        "    a=X.copy()\n",
        "    out=list()\n",
        "    for w in weights:\n",
        "        z=np.dot(a,w)\n",
        "        a=sigmoid(z)\n",
        "        out.append(a)\n",
        "    return out"
      ],
      "execution_count": null,
      "outputs": []
    },
    {
      "cell_type": "markdown",
      "metadata": {
        "id": "WJ8FtncsUwTC"
      },
      "source": [
        "#### **Back Propagation**\n",
        "\n",
        "Having a feed forward network will not help us in most of the cases, as we need to update the weights of our network in case of any error in the output while training."
      ]
    },
    {
      "cell_type": "code",
      "metadata": {
        "id": "cp-CaJYOU6QN"
      },
      "source": [
        "def backpropagation(l1,l2,weights,y):\n",
        "    l2_error=y.reshape(-1,1)-l2\n",
        "    l2_delta=l2_error*sigmoid_derivative(l2)\n",
        "    l1_error=l2_delta.dot(weights[1].T)\n",
        "    l1_delta=l1_error*sigmoid_derivative(l1)\n",
        "    return l2_error,l1_delta,l2_delta"
      ],
      "execution_count": null,
      "outputs": []
    },
    {
      "cell_type": "markdown",
      "metadata": {
        "id": "ajWD6D1NVIjm"
      },
      "source": [
        "l1,l2 represent the two hidden layers in our network and l1_error and l2_error are errors associated with each layer. l1_delta and l2_delta is the correction to the error in our network weights."
      ]
    },
    {
      "cell_type": "markdown",
      "metadata": {
        "id": "RNvrt-bwVOuE"
      },
      "source": [
        "#### **Updation of weights**\n",
        "\n",
        "Now that we know the error in our network, we need to update our weights accordingly.\n",
        "\n",
        "Here, alpha represents the learning rate which describes how fast or slow your network should learn. The value of alpha plays a key role to build an efficient neural network. A too big value for alpha makes your model skip through many local minima and more often global minima too. In the same way, having a too low value will take your network forever to learn. Normally, the learning rate will be a bit high in the initial epochs ( number of times you train the network ), as the accuracy increases we reduce the alpha value to better converge to the global minima."
      ]
    },
    {
      "cell_type": "code",
      "metadata": {
        "id": "bUf7csGFVdXj"
      },
      "source": [
        "def update_weights(X,l1,l1_delta,l2_delta,weights,alpha=.5):\n",
        "    weights[1]+=(alpha*l1.T.dot(l2_delta))\n",
        "    weights[0]+=(alpha*X.T.dot(l1_delta))\n",
        "    return weights"
      ],
      "execution_count": null,
      "outputs": []
    },
    {
      "cell_type": "markdown",
      "metadata": {
        "id": "3U0IPt_eVlns"
      },
      "source": [
        "#### **Prediction using our network**\n",
        "\n",
        "We will predict the output of our network using the trained weights and our feed forward network.\n",
        "\n",
        "Our feed forward network returns the data point and the probability associated with it. As we are dealing with the corona data, to predict to which of the either corona effected or not, we set a threshold of 0.5 which means anything above 0.5 will be considered as a point in corona effected and all others in not effected."
      ]
    },
    {
      "cell_type": "code",
      "metadata": {
        "id": "q1fdujLkVzzW"
      },
      "source": [
        "def predict_mlnn(X,weights):\n",
        "    _,l2=feed_forward(X,weights)\n",
        "    preds=np.ravel((l2>0.5).astype(int))\n",
        "    return preds\n",
        "\n",
        "def predictRegression_mlnn(X,weights):\n",
        "    _,l2=feed_forward(X,weights)\n",
        "    return np.round(100.0-(l2*100.0),2)\n"
      ],
      "execution_count": null,
      "outputs": []
    },
    {
      "cell_type": "markdown",
      "metadata": {
        "id": "SbW-MmJBG7kl"
      },
      "source": [
        "#### **Train The Multilayer Neural Network (MLNN)**\n",
        "\n",
        "In the first line we created architecture with three nodes in the hidden layer as we have data represented in 3 dimensions. Our input layer is fed with X and output layer has one neuron to output the probability of the data point belonging to either of the moons.\n",
        "\n",
        "We will train our data with 30000 epochs and then perform Back Propagation to train our model. We output the train accuracy and test accuracy of our model after every 5000 iterations.\n",
        "\n",
        "The more the test accuracy, the more efficient our model is. We should have a look on the train accuracy too, to check whether our model is overfitted or not. Yeah, we have built a simple Multi Layer Neural Network with two hidden layers and one output layer."
      ]
    },
    {
      "cell_type": "code",
      "metadata": {
        "id": "uVol4osFHN8q"
      },
      "source": [
        "def train_model_mlnn(X_train, Y_train, X_test, Y_test, print_epoch):\n",
        "  weights=create_arch_mlnn(X_train,3,1)\n",
        "  for j in range(epoch_mlnn+1):\n",
        "    l1,l2=feed_forward(X_train,weights)\n",
        "    l2_error,l1_delta,l2_delta=backpropagation(l1,l2,weights,Y_train)\n",
        "    weights=update_weights(X_train,l1,l1_delta,l2_delta,weights,alpha_mlnn)\n",
        "    if(j%5000==0):\n",
        "        train_error=np.mean(np.abs(l2_error))\n",
        "        train_accuracy=accuracy_score(Y_train,(l2>0.5))\n",
        "        test_preds=predict_mlnn(X_test,weights)\n",
        "        test_accuracy=accuracy_score(Y_test,test_preds)\n",
        "\n",
        "        if(print_epoch == True):\n",
        "          print(\"epoch {:5} \".format(j),end='-')\n",
        "          print(' error:{:0.4f} '.format(train_error),end='-')\n",
        "          print(\" acc:train {:0.2f} \".format(train_accuracy),end=\"|\")\n",
        "          print(\" test {:0.2f} \".format(test_accuracy))\n",
        "  return test_preds, weights"
      ],
      "execution_count": null,
      "outputs": []
    },
    {
      "cell_type": "markdown",
      "metadata": {
        "id": "vHIpp38kU8i0"
      },
      "source": [
        "### **<font color='mediumblue'> 4.2 Execute MLNN </font>**"
      ]
    },
    {
      "cell_type": "markdown",
      "metadata": {
        "id": "HvNabcrKOcRG"
      },
      "source": [
        "As we have all the functions ready, let’s train our network using the COVID-19 data and display accuracy along with prediction."
      ]
    },
    {
      "cell_type": "code",
      "metadata": {
        "id": "3UMLgwsxKb3k",
        "outputId": "6d0c4463-e433-47f3-9301-cca33da41876",
        "colab": {
          "base_uri": "https://localhost:8080/",
          "height": 442
        }
      },
      "source": [
        "def execute_mlnn_model():\n",
        "  print('\\n\\033[1m\\033[94m Multi Layer Neural Network: Accuracy \\033[0m\\n')\n",
        "\n",
        "  # Train MLNN Model\n",
        "  prediction, weights = train_model_mlnn(X, y, Xt, yt, print_epoch=True)\n",
        "\n",
        "  # Predict with Sample Input\n",
        "  print('\\n\\033[1m\\033[94m Multi Layer Neural Network: Prediction (+ve %) \\033[0m\\n')\n",
        "  print(\"Input Symptoms:\\n\", symptoms_name)\n",
        "  for input in user_input:\n",
        "      print(\"\\nInput\", input, \" | Predicted: \", predictRegression_mlnn(input, weights))\n",
        "\n",
        "# Execution Starts from here\n",
        "execute_mlnn_model()"
      ],
      "execution_count": null,
      "outputs": [
        {
          "output_type": "stream",
          "text": [
            "\n",
            "\u001b[1m\u001b[94m Multi Layer Neural Network: Accuracy \u001b[0m\n",
            "\n",
            "epoch     0 - error:0.4968 - acc:train 0.51 | test 0.54 \n",
            "epoch  5000 - error:0.0091 - acc:train 1.00 | test 1.00 \n",
            "epoch 10000 - error:0.0062 - acc:train 1.00 | test 1.00 \n",
            "epoch 15000 - error:0.0051 - acc:train 1.00 | test 1.00 \n",
            "epoch 20000 - error:0.0043 - acc:train 1.00 | test 1.00 \n",
            "epoch 25000 - error:0.0039 - acc:train 1.00 | test 1.00 \n",
            "epoch 30000 - error:0.0035 - acc:train 1.00 | test 1.00 \n",
            "\n",
            "\u001b[1m\u001b[94m Multi Layer Neural Network: Prediction (+ve %) \u001b[0m\n",
            "\n",
            "Input Symptoms:\n",
            " ['Fever', 'Tiredness', 'Dry-Cough', 'Difficulty-in-Breathing', 'Sore-Throat', 'Pains', 'Nasal-Congestion', 'Runny-Nose', 'Diarrhea']\n",
            "\n",
            "Input [0, 0, 0, 0, 0, 0, 0, 0, 0]  | Predicted:  [0.]\n",
            "\n",
            "Input [1, 1, 1, 1, 1, 1, 1, 1, 1]  | Predicted:  [100.]\n",
            "\n",
            "Input [1, 0, 1, 1, 0, 0, 1, 1, 1]  | Predicted:  [0.25]\n",
            "\n",
            "Input [1, 1, 1, 1, 1, 0, 1, 1, 1]  | Predicted:  [100.]\n",
            "\n",
            "Input [1, 1, 1, 0, 0, 0, 0, 0, 1]  | Predicted:  [1.34]\n"
          ],
          "name": "stdout"
        }
      ]
    },
    {
      "cell_type": "markdown",
      "metadata": {
        "id": "3-k0yPDiVx72"
      },
      "source": [
        "# **<font color='darkblue'> 5. Other Algorithms </font>**"
      ]
    },
    {
      "cell_type": "markdown",
      "metadata": {
        "id": "ewcjgcoqNod2"
      },
      "source": [
        "Besides MLNN, we have also applied below algorithms into our dataset for Covid-19 detection.\n",
        "\n",
        "\n",
        "*   Linear Regression\n",
        "*   KNN\n",
        "*   SVM\n",
        "*   Logistic Regression\n",
        "*   Bagging (Random Forest)\n",
        "*   Boosting (XGB Classifier)\n",
        "*   Naive Bayes\n",
        "\n"
      ]
    },
    {
      "cell_type": "markdown",
      "metadata": {
        "id": "244pSmdKK6nA"
      },
      "source": [
        "### **<font color='mediumblue'> 5.1 Create Models </font>**"
      ]
    },
    {
      "cell_type": "markdown",
      "metadata": {
        "id": "Vruq9zs2OQRr"
      },
      "source": [
        "Training Models and associate utility variables, functions are implemented in this section."
      ]
    },
    {
      "cell_type": "markdown",
      "metadata": {
        "id": "J1IZtXmfLmuO"
      },
      "source": [
        "#### **Utility Components**"
      ]
    },
    {
      "cell_type": "markdown",
      "metadata": {
        "id": "jqv_CsH8OrHh"
      },
      "source": [
        "Utility variables initialized to keep the Accuracy for each model and Results of Sample outputs.\n",
        "\n",
        "\n",
        "*   ***Initialize Global Variables:*** Global variables used in computing result for all other algorithms in Section-5\n",
        "\n"
      ]
    },
    {
      "cell_type": "code",
      "metadata": {
        "id": "wddPaTGtUSn2"
      },
      "source": [
        "models_name = [\"Linear Regression\", \"KNN\", \"SVM\", \"Logistic Regression\", \"Bagging (Random Forest)\", \"Boosting (XGB Classifier)\", \"Naive Bayes\"]\n",
        "models_accuracy = []\n",
        "\n",
        "# These are row-column of Result Table for Sample Input\n",
        "user_input_result_col = [\"User Input\", \"Linear Regression\", \"KNN\", \"SVM\", \"Logistic Regression\", \"Bagging (Random Forest)\", \"Boosting (XGB Classifier)\", \"Naive Bayes\"]\n",
        "user_input_result_val = []"
      ],
      "execution_count": null,
      "outputs": []
    },
    {
      "cell_type": "markdown",
      "metadata": {
        "id": "xrEpD2ecT0zC"
      },
      "source": [
        "*   ***display_result_in_table():*** Print the result in table format"
      ]
    },
    {
      "cell_type": "code",
      "metadata": {
        "id": "g_qIDyLAK7Ce"
      },
      "source": [
        "# Print results into Tabulate format\n",
        "def display_result_in_table():\n",
        "    print('\\n\\033[1m\\033[94m Accuracy Of Other Models: \\033[0m\\n')\n",
        "    fig = go.Figure(data=[go.Table(name='Accuracy', \n",
        "                                   header=dict(values=models_name, line_color='darkslategray', fill_color='royalblue',\n",
        "                                            align=['center','center'],font=dict(color='white', size=14), height=35),\n",
        "                                  cells=dict(values=models_accuracy, line_color='darkslategray', fill_color='white',\n",
        "                                             align=['center', 'center'], font_size=13, height=30))])\n",
        "    \n",
        "    fig.update_layout(width=1300, height=100, margin=dict(r=5, l=5, t=5, b=5))\n",
        "    fig.show()\n",
        "\n",
        "    print('\\n\\033[1m\\033[94m Predicted Result for Sample Input Of Other Models: \\033[0m\\n')\n",
        "    fig = go.Figure(data=[go.Table(header=dict(values=user_input_result_col, line_color='darkslategray', fill_color='royalblue',\n",
        "                                            align=['center','center'],font=dict(color='white', size=14), height=35),\n",
        "                                  cells=dict(values=user_input_result_val, line_color='darkslategray', fill_color='white',\n",
        "                                             align=['center', 'center'], font_size=13, height=30))])\n",
        "    fig.update_layout(width=1300, height=250, margin=dict(r=5, l=5, t=5, b=5))\n",
        "    fig.show()"
      ],
      "execution_count": null,
      "outputs": []
    },
    {
      "cell_type": "markdown",
      "metadata": {
        "id": "6bbdnhrpTh54"
      },
      "source": [
        "*   ***prepare_result_to_display():*** Update/add data of utility variables (accuracy value, result of sample input)"
      ]
    },
    {
      "cell_type": "code",
      "metadata": {
        "id": "CB21h9HPTuZn"
      },
      "source": [
        "def prepare_result_to_display(model, accuracy, user_input_preds):\n",
        "    print( model, \": \", accuracy)\n",
        "    models_accuracy.append(accuracy)\n",
        "    user_input_result_val.append(user_input_preds)"
      ],
      "execution_count": null,
      "outputs": []
    },
    {
      "cell_type": "markdown",
      "metadata": {
        "id": "gBqAIbeR5YlQ"
      },
      "source": [
        "#### **Train Linear Regression**"
      ]
    },
    {
      "cell_type": "code",
      "metadata": {
        "id": "ghSjhtA04ne7"
      },
      "source": [
        "def train_model_linear_regression(feature_train, label, feature_test, test_label):\n",
        "  model=LinearRegression() \n",
        "  model.fit(feature_train, label)\n",
        "\n",
        "  train_accuracy=accuracy_score(label,(model.predict(feature_train)>0.5))\n",
        "  test_preds=model.predict(feature_test)>0.5\n",
        "  test_accuracy=accuracy_score(test_label,test_preds>0.5)\n",
        "  # print(\"\\nacc:train {:0.2f} \".format(train_accuracy),end=\"|\")\n",
        "  # print(\" test {:0.2f} \\n\\n\".format(test_accuracy))\n",
        "  \n",
        "  user_input_preds = []\n",
        "  # print(symptoms_name)\n",
        "  for input in user_input:\n",
        "    user_input_preds.append(model.predict([input])<0.5)\n",
        "    # print(\"\\nInput\", input, \" | Predicted: \", model.predict([input])<0.5, \"\\n\")\n",
        "\n",
        "  return test_preds, test_accuracy, user_input_preds"
      ],
      "execution_count": null,
      "outputs": []
    },
    {
      "cell_type": "markdown",
      "metadata": {
        "id": "BVkOGNL-sFke"
      },
      "source": [
        "#### **Train Other Models**\n",
        "\n",
        "This is a common method for training other algorithms (SVM, RF, etc.).\n",
        "It's taking algorithm name in the parameter \"classifier'\""
      ]
    },
    {
      "cell_type": "code",
      "metadata": {
        "id": "R9Nj0QrFsbGj"
      },
      "source": [
        "def train_model_others(classifier, feature_train, label, feature_test, test_label):\n",
        "    # fit the training dataset on the classifier\n",
        "    classifier.fit(feature_train, label)\n",
        "    #train_accuracy=accuracy_score(label,(classifier.predict(feature_train)>0.5))\n",
        "    \n",
        "    # predict the labels on test dataset\n",
        "    predictions = classifier.predict(feature_test)>0.5\n",
        "\n",
        "    # Process the sample input and provide the prediction\n",
        "    user_input_preds = []\n",
        "    # print(symptoms_name)\n",
        "    for input in user_input:\n",
        "      # print(\"\\nInput\", input, \" | Predicted: \", model.predict([input])<0.5, \"\\n\")\n",
        "      user_input_preds.append(classifier.predict([input])<0.5)\n",
        " \n",
        "    return predictions, metrics.accuracy_score(test_label, predictions), user_input_preds"
      ],
      "execution_count": null,
      "outputs": []
    },
    {
      "cell_type": "markdown",
      "metadata": {
        "id": "-AvQOypYx_LI"
      },
      "source": [
        "### **<font color='mediumblue'> 5.2 Execute Other Models </font>**"
      ]
    },
    {
      "cell_type": "code",
      "metadata": {
        "id": "eQzDrK1ZyGN2",
        "outputId": "b3a29f65-e720-475a-9920-ef893813d4f4",
        "colab": {
          "base_uri": "https://localhost:8080/",
          "height": 676
        }
      },
      "source": [
        "def execute_other_model(X_train, y_train, X_test, y_test):\n",
        "    print('\\n\\033[1m\\033[94m Accuracy Of Other Models: \\033[0m\\n')\n",
        "    print(symptoms_name)\n",
        "\n",
        "    user_input_preds = []\n",
        "    models_accuracy.clear()\n",
        "    user_input_result_val.clear()\n",
        "    user_input_result_val.append(user_input)\n",
        "\n",
        "    # Train each model one by one and get result accordingly\n",
        "    prediction, accuracy, user_input_preds = train_model_linear_regression(X_train, y_train, X_test, y_test)\n",
        "    prepare_result_to_display(models_name[0], accuracy, user_input_preds)\n",
        "\n",
        "    prediction, accuracy, user_input_preds = train_model_others(KNeighborsRegressor(n_neighbors=5), X_train, y_train, X_test, y_test)\n",
        "    prepare_result_to_display(models_name[1], accuracy, user_input_preds)\n",
        "\n",
        "    prediction, accuracy, user_input_preds = train_model_others(svm.SVC(), X_train, y_train, X_test, y_test)\n",
        "    prepare_result_to_display(models_name[2], accuracy, user_input_preds)\n",
        "    \n",
        "    prediction, accuracy, user_input_preds = train_model_others(linear_model.LogisticRegression(), X_train, y_train, X_test, y_test)\n",
        "    prepare_result_to_display(models_name[3], accuracy, user_input_preds)\n",
        "\n",
        "    prediction, accuracy, user_input_preds = train_model_others(ensemble.RandomForestClassifier(), X_train, y_train, X_test, y_test)\n",
        "    prepare_result_to_display(models_name[4], accuracy, user_input_preds)\n",
        "\n",
        "    prediction, accuracy, user_input_preds = train_model_others(xgboost.XGBClassifier(), X_train, y_train, X_test, y_test)\n",
        "    prepare_result_to_display(models_name[5], accuracy, user_input_preds)\n",
        "\n",
        "    prediction, accuracy, user_input_preds = train_model_others(naive_bayes.MultinomialNB(), X_train, y_train, X_test, y_test)\n",
        "    prepare_result_to_display(models_name[6], accuracy, user_input_preds)\n",
        "\n",
        "\n",
        "# Execution Starts Here\n",
        "execute_other_model(X, y, Xt, yt)\n",
        "display_result_in_table()"
      ],
      "execution_count": null,
      "outputs": [
        {
          "output_type": "stream",
          "text": [
            "\n",
            "\u001b[1m\u001b[94m Accuracy Of Other Models: \u001b[0m\n",
            "\n",
            "['Fever', 'Tiredness', 'Dry-Cough', 'Difficulty-in-Breathing', 'Sore-Throat', 'Pains', 'Nasal-Congestion', 'Runny-Nose', 'Diarrhea']\n",
            "Linear Regression :  1.0\n",
            "KNN :  1.0\n",
            "SVM :  1.0\n",
            "Logistic Regression :  1.0\n",
            "Bagging (Random Forest) :  1.0\n",
            "Boosting (XGB Classifier) :  1.0\n",
            "Naive Bayes :  0.59\n",
            "\n",
            "\u001b[1m\u001b[94m Accuracy Of Other Models: \u001b[0m\n",
            "\n"
          ],
          "name": "stdout"
        },
        {
          "output_type": "display_data",
          "data": {
            "text/html": [
              "<html>\n",
              "<head><meta charset=\"utf-8\" /></head>\n",
              "<body>\n",
              "    <div>\n",
              "            <script src=\"https://cdnjs.cloudflare.com/ajax/libs/mathjax/2.7.5/MathJax.js?config=TeX-AMS-MML_SVG\"></script><script type=\"text/javascript\">if (window.MathJax) {MathJax.Hub.Config({SVG: {font: \"STIX-Web\"}});}</script>\n",
              "                <script type=\"text/javascript\">window.PlotlyConfig = {MathJaxConfig: 'local'};</script>\n",
              "        <script src=\"https://cdn.plot.ly/plotly-latest.min.js\"></script>    \n",
              "            <div id=\"54aa9069-f2f3-477f-ba8f-4a9ba6a316ec\" class=\"plotly-graph-div\" style=\"height:100px; width:1300px;\"></div>\n",
              "            <script type=\"text/javascript\">\n",
              "                \n",
              "                    window.PLOTLYENV=window.PLOTLYENV || {};\n",
              "                    \n",
              "                if (document.getElementById(\"54aa9069-f2f3-477f-ba8f-4a9ba6a316ec\")) {\n",
              "                    Plotly.newPlot(\n",
              "                        '54aa9069-f2f3-477f-ba8f-4a9ba6a316ec',\n",
              "                        [{\"cells\": {\"align\": [\"center\", \"center\"], \"fill\": {\"color\": \"white\"}, \"font\": {\"size\": 13}, \"height\": 30, \"line\": {\"color\": \"darkslategray\"}, \"values\": [1.0, 1.0, 1.0, 1.0, 1.0, 1.0, 0.59]}, \"header\": {\"align\": [\"center\", \"center\"], \"fill\": {\"color\": \"royalblue\"}, \"font\": {\"color\": \"white\", \"size\": 14}, \"height\": 35, \"line\": {\"color\": \"darkslategray\"}, \"values\": [\"Linear Regression\", \"KNN\", \"SVM\", \"Logistic Regression\", \"Bagging (Random Forest)\", \"Boosting (XGB Classifier)\", \"Naive Bayes\"]}, \"name\": \"Accuracy\", \"type\": \"table\"}],\n",
              "                        {\"height\": 100, \"margin\": {\"b\": 5, \"l\": 5, \"r\": 5, \"t\": 5}, \"template\": {\"data\": {\"bar\": [{\"error_x\": {\"color\": \"#2a3f5f\"}, \"error_y\": {\"color\": \"#2a3f5f\"}, \"marker\": {\"line\": {\"color\": \"#E5ECF6\", \"width\": 0.5}}, \"type\": \"bar\"}], \"barpolar\": [{\"marker\": {\"line\": {\"color\": \"#E5ECF6\", \"width\": 0.5}}, \"type\": \"barpolar\"}], \"carpet\": [{\"aaxis\": {\"endlinecolor\": \"#2a3f5f\", \"gridcolor\": \"white\", \"linecolor\": \"white\", \"minorgridcolor\": \"white\", \"startlinecolor\": \"#2a3f5f\"}, \"baxis\": {\"endlinecolor\": \"#2a3f5f\", \"gridcolor\": \"white\", \"linecolor\": \"white\", \"minorgridcolor\": \"white\", \"startlinecolor\": \"#2a3f5f\"}, \"type\": \"carpet\"}], \"choropleth\": [{\"colorbar\": {\"outlinewidth\": 0, \"ticks\": \"\"}, \"type\": \"choropleth\"}], \"contour\": [{\"colorbar\": {\"outlinewidth\": 0, \"ticks\": \"\"}, \"colorscale\": [[0.0, \"#0d0887\"], [0.1111111111111111, \"#46039f\"], [0.2222222222222222, \"#7201a8\"], [0.3333333333333333, \"#9c179e\"], [0.4444444444444444, \"#bd3786\"], [0.5555555555555556, \"#d8576b\"], [0.6666666666666666, \"#ed7953\"], [0.7777777777777778, \"#fb9f3a\"], [0.8888888888888888, \"#fdca26\"], [1.0, \"#f0f921\"]], \"type\": \"contour\"}], \"contourcarpet\": [{\"colorbar\": {\"outlinewidth\": 0, \"ticks\": \"\"}, \"type\": \"contourcarpet\"}], \"heatmap\": [{\"colorbar\": {\"outlinewidth\": 0, \"ticks\": \"\"}, \"colorscale\": [[0.0, \"#0d0887\"], [0.1111111111111111, \"#46039f\"], [0.2222222222222222, \"#7201a8\"], [0.3333333333333333, \"#9c179e\"], [0.4444444444444444, \"#bd3786\"], [0.5555555555555556, \"#d8576b\"], [0.6666666666666666, \"#ed7953\"], [0.7777777777777778, \"#fb9f3a\"], [0.8888888888888888, \"#fdca26\"], [1.0, \"#f0f921\"]], \"type\": \"heatmap\"}], \"heatmapgl\": [{\"colorbar\": {\"outlinewidth\": 0, \"ticks\": \"\"}, \"colorscale\": [[0.0, \"#0d0887\"], [0.1111111111111111, \"#46039f\"], [0.2222222222222222, \"#7201a8\"], [0.3333333333333333, \"#9c179e\"], [0.4444444444444444, \"#bd3786\"], [0.5555555555555556, \"#d8576b\"], [0.6666666666666666, \"#ed7953\"], [0.7777777777777778, \"#fb9f3a\"], [0.8888888888888888, \"#fdca26\"], [1.0, \"#f0f921\"]], \"type\": \"heatmapgl\"}], \"histogram\": [{\"marker\": {\"colorbar\": {\"outlinewidth\": 0, \"ticks\": \"\"}}, \"type\": \"histogram\"}], \"histogram2d\": [{\"colorbar\": {\"outlinewidth\": 0, \"ticks\": \"\"}, \"colorscale\": [[0.0, \"#0d0887\"], [0.1111111111111111, \"#46039f\"], [0.2222222222222222, \"#7201a8\"], [0.3333333333333333, \"#9c179e\"], [0.4444444444444444, \"#bd3786\"], [0.5555555555555556, \"#d8576b\"], [0.6666666666666666, \"#ed7953\"], [0.7777777777777778, \"#fb9f3a\"], [0.8888888888888888, \"#fdca26\"], [1.0, \"#f0f921\"]], \"type\": \"histogram2d\"}], \"histogram2dcontour\": [{\"colorbar\": {\"outlinewidth\": 0, \"ticks\": \"\"}, \"colorscale\": [[0.0, \"#0d0887\"], [0.1111111111111111, \"#46039f\"], [0.2222222222222222, \"#7201a8\"], [0.3333333333333333, \"#9c179e\"], [0.4444444444444444, \"#bd3786\"], [0.5555555555555556, \"#d8576b\"], [0.6666666666666666, \"#ed7953\"], [0.7777777777777778, \"#fb9f3a\"], [0.8888888888888888, \"#fdca26\"], [1.0, \"#f0f921\"]], \"type\": \"histogram2dcontour\"}], \"mesh3d\": [{\"colorbar\": {\"outlinewidth\": 0, \"ticks\": \"\"}, \"type\": \"mesh3d\"}], \"parcoords\": [{\"line\": {\"colorbar\": {\"outlinewidth\": 0, \"ticks\": \"\"}}, \"type\": \"parcoords\"}], \"pie\": [{\"automargin\": true, \"type\": \"pie\"}], \"scatter\": [{\"marker\": {\"colorbar\": {\"outlinewidth\": 0, \"ticks\": \"\"}}, \"type\": \"scatter\"}], \"scatter3d\": [{\"line\": {\"colorbar\": {\"outlinewidth\": 0, \"ticks\": \"\"}}, \"marker\": {\"colorbar\": {\"outlinewidth\": 0, \"ticks\": \"\"}}, \"type\": \"scatter3d\"}], \"scattercarpet\": [{\"marker\": {\"colorbar\": {\"outlinewidth\": 0, \"ticks\": \"\"}}, \"type\": \"scattercarpet\"}], \"scattergeo\": [{\"marker\": {\"colorbar\": {\"outlinewidth\": 0, \"ticks\": \"\"}}, \"type\": \"scattergeo\"}], \"scattergl\": [{\"marker\": {\"colorbar\": {\"outlinewidth\": 0, \"ticks\": \"\"}}, \"type\": \"scattergl\"}], \"scattermapbox\": [{\"marker\": {\"colorbar\": {\"outlinewidth\": 0, \"ticks\": \"\"}}, \"type\": \"scattermapbox\"}], \"scatterpolar\": [{\"marker\": {\"colorbar\": {\"outlinewidth\": 0, \"ticks\": \"\"}}, \"type\": \"scatterpolar\"}], \"scatterpolargl\": [{\"marker\": {\"colorbar\": {\"outlinewidth\": 0, \"ticks\": \"\"}}, \"type\": \"scatterpolargl\"}], \"scatterternary\": [{\"marker\": {\"colorbar\": {\"outlinewidth\": 0, \"ticks\": \"\"}}, \"type\": \"scatterternary\"}], \"surface\": [{\"colorbar\": {\"outlinewidth\": 0, \"ticks\": \"\"}, \"colorscale\": [[0.0, \"#0d0887\"], [0.1111111111111111, \"#46039f\"], [0.2222222222222222, \"#7201a8\"], [0.3333333333333333, \"#9c179e\"], [0.4444444444444444, \"#bd3786\"], [0.5555555555555556, \"#d8576b\"], [0.6666666666666666, \"#ed7953\"], [0.7777777777777778, \"#fb9f3a\"], [0.8888888888888888, \"#fdca26\"], [1.0, \"#f0f921\"]], \"type\": \"surface\"}], \"table\": [{\"cells\": {\"fill\": {\"color\": \"#EBF0F8\"}, \"line\": {\"color\": \"white\"}}, \"header\": {\"fill\": {\"color\": \"#C8D4E3\"}, \"line\": {\"color\": \"white\"}}, \"type\": \"table\"}]}, \"layout\": {\"annotationdefaults\": {\"arrowcolor\": \"#2a3f5f\", \"arrowhead\": 0, \"arrowwidth\": 1}, \"coloraxis\": {\"colorbar\": {\"outlinewidth\": 0, \"ticks\": \"\"}}, \"colorscale\": {\"diverging\": [[0, \"#8e0152\"], [0.1, \"#c51b7d\"], [0.2, \"#de77ae\"], [0.3, \"#f1b6da\"], [0.4, \"#fde0ef\"], [0.5, \"#f7f7f7\"], [0.6, \"#e6f5d0\"], [0.7, \"#b8e186\"], [0.8, \"#7fbc41\"], [0.9, \"#4d9221\"], [1, \"#276419\"]], \"sequential\": [[0.0, \"#0d0887\"], [0.1111111111111111, \"#46039f\"], [0.2222222222222222, \"#7201a8\"], [0.3333333333333333, \"#9c179e\"], [0.4444444444444444, \"#bd3786\"], [0.5555555555555556, \"#d8576b\"], [0.6666666666666666, \"#ed7953\"], [0.7777777777777778, \"#fb9f3a\"], [0.8888888888888888, \"#fdca26\"], [1.0, \"#f0f921\"]], \"sequentialminus\": [[0.0, \"#0d0887\"], [0.1111111111111111, \"#46039f\"], [0.2222222222222222, \"#7201a8\"], [0.3333333333333333, \"#9c179e\"], [0.4444444444444444, \"#bd3786\"], [0.5555555555555556, \"#d8576b\"], [0.6666666666666666, \"#ed7953\"], [0.7777777777777778, \"#fb9f3a\"], [0.8888888888888888, \"#fdca26\"], [1.0, \"#f0f921\"]]}, \"colorway\": [\"#636efa\", \"#EF553B\", \"#00cc96\", \"#ab63fa\", \"#FFA15A\", \"#19d3f3\", \"#FF6692\", \"#B6E880\", \"#FF97FF\", \"#FECB52\"], \"font\": {\"color\": \"#2a3f5f\"}, \"geo\": {\"bgcolor\": \"white\", \"lakecolor\": \"white\", \"landcolor\": \"#E5ECF6\", \"showlakes\": true, \"showland\": true, \"subunitcolor\": \"white\"}, \"hoverlabel\": {\"align\": \"left\"}, \"hovermode\": \"closest\", \"mapbox\": {\"style\": \"light\"}, \"paper_bgcolor\": \"white\", \"plot_bgcolor\": \"#E5ECF6\", \"polar\": {\"angularaxis\": {\"gridcolor\": \"white\", \"linecolor\": \"white\", \"ticks\": \"\"}, \"bgcolor\": \"#E5ECF6\", \"radialaxis\": {\"gridcolor\": \"white\", \"linecolor\": \"white\", \"ticks\": \"\"}}, \"scene\": {\"xaxis\": {\"backgroundcolor\": \"#E5ECF6\", \"gridcolor\": \"white\", \"gridwidth\": 2, \"linecolor\": \"white\", \"showbackground\": true, \"ticks\": \"\", \"zerolinecolor\": \"white\"}, \"yaxis\": {\"backgroundcolor\": \"#E5ECF6\", \"gridcolor\": \"white\", \"gridwidth\": 2, \"linecolor\": \"white\", \"showbackground\": true, \"ticks\": \"\", \"zerolinecolor\": \"white\"}, \"zaxis\": {\"backgroundcolor\": \"#E5ECF6\", \"gridcolor\": \"white\", \"gridwidth\": 2, \"linecolor\": \"white\", \"showbackground\": true, \"ticks\": \"\", \"zerolinecolor\": \"white\"}}, \"shapedefaults\": {\"line\": {\"color\": \"#2a3f5f\"}}, \"ternary\": {\"aaxis\": {\"gridcolor\": \"white\", \"linecolor\": \"white\", \"ticks\": \"\"}, \"baxis\": {\"gridcolor\": \"white\", \"linecolor\": \"white\", \"ticks\": \"\"}, \"bgcolor\": \"#E5ECF6\", \"caxis\": {\"gridcolor\": \"white\", \"linecolor\": \"white\", \"ticks\": \"\"}}, \"title\": {\"x\": 0.05}, \"xaxis\": {\"automargin\": true, \"gridcolor\": \"white\", \"linecolor\": \"white\", \"ticks\": \"\", \"title\": {\"standoff\": 15}, \"zerolinecolor\": \"white\", \"zerolinewidth\": 2}, \"yaxis\": {\"automargin\": true, \"gridcolor\": \"white\", \"linecolor\": \"white\", \"ticks\": \"\", \"title\": {\"standoff\": 15}, \"zerolinecolor\": \"white\", \"zerolinewidth\": 2}}}, \"width\": 1300},\n",
              "                        {\"responsive\": true}\n",
              "                    ).then(function(){\n",
              "                            \n",
              "var gd = document.getElementById('54aa9069-f2f3-477f-ba8f-4a9ba6a316ec');\n",
              "var x = new MutationObserver(function (mutations, observer) {{\n",
              "        var display = window.getComputedStyle(gd).display;\n",
              "        if (!display || display === 'none') {{\n",
              "            console.log([gd, 'removed!']);\n",
              "            Plotly.purge(gd);\n",
              "            observer.disconnect();\n",
              "        }}\n",
              "}});\n",
              "\n",
              "// Listen for the removal of the full notebook cells\n",
              "var notebookContainer = gd.closest('#notebook-container');\n",
              "if (notebookContainer) {{\n",
              "    x.observe(notebookContainer, {childList: true});\n",
              "}}\n",
              "\n",
              "// Listen for the clearing of the current output cell\n",
              "var outputEl = gd.closest('.output');\n",
              "if (outputEl) {{\n",
              "    x.observe(outputEl, {childList: true});\n",
              "}}\n",
              "\n",
              "                        })\n",
              "                };\n",
              "                \n",
              "            </script>\n",
              "        </div>\n",
              "</body>\n",
              "</html>"
            ]
          },
          "metadata": {
            "tags": []
          }
        },
        {
          "output_type": "stream",
          "text": [
            "\n",
            "\u001b[1m\u001b[94m Predicted Result for Sample Input Of Other Models: \u001b[0m\n",
            "\n"
          ],
          "name": "stdout"
        },
        {
          "output_type": "display_data",
          "data": {
            "text/html": [
              "<html>\n",
              "<head><meta charset=\"utf-8\" /></head>\n",
              "<body>\n",
              "    <div>\n",
              "            <script src=\"https://cdnjs.cloudflare.com/ajax/libs/mathjax/2.7.5/MathJax.js?config=TeX-AMS-MML_SVG\"></script><script type=\"text/javascript\">if (window.MathJax) {MathJax.Hub.Config({SVG: {font: \"STIX-Web\"}});}</script>\n",
              "                <script type=\"text/javascript\">window.PlotlyConfig = {MathJaxConfig: 'local'};</script>\n",
              "        <script src=\"https://cdn.plot.ly/plotly-latest.min.js\"></script>    \n",
              "            <div id=\"bca1e2af-4447-4441-ac0b-52313e164c7c\" class=\"plotly-graph-div\" style=\"height:250px; width:1300px;\"></div>\n",
              "            <script type=\"text/javascript\">\n",
              "                \n",
              "                    window.PLOTLYENV=window.PLOTLYENV || {};\n",
              "                    \n",
              "                if (document.getElementById(\"bca1e2af-4447-4441-ac0b-52313e164c7c\")) {\n",
              "                    Plotly.newPlot(\n",
              "                        'bca1e2af-4447-4441-ac0b-52313e164c7c',\n",
              "                        [{\"cells\": {\"align\": [\"center\", \"center\"], \"fill\": {\"color\": \"white\"}, \"font\": {\"size\": 13}, \"height\": 30, \"line\": {\"color\": \"darkslategray\"}, \"values\": [[[0, 0, 0, 0, 0, 0, 0, 0, 0], [1, 1, 1, 1, 1, 1, 1, 1, 1], [1, 0, 1, 1, 0, 0, 1, 1, 1], [1, 1, 1, 1, 1, 0, 1, 1, 1], [1, 1, 1, 0, 0, 0, 0, 0, 1]], [[false], [true], [true], [true], [false]], [[false], [true], [true], [true], [false]], [[false], [true], [true], [true], [false]], [[false], [true], [true], [true], [false]], [[false], [true], [true], [true], [false]], [[false], [true], [true], [true], [false]], [[false], [true], [false], [true], [false]]]}, \"header\": {\"align\": [\"center\", \"center\"], \"fill\": {\"color\": \"royalblue\"}, \"font\": {\"color\": \"white\", \"size\": 14}, \"height\": 35, \"line\": {\"color\": \"darkslategray\"}, \"values\": [\"User Input\", \"Linear Regression\", \"KNN\", \"SVM\", \"Logistic Regression\", \"Bagging (Random Forest)\", \"Boosting (XGB Classifier)\", \"Naive Bayes\"]}, \"type\": \"table\"}],\n",
              "                        {\"height\": 250, \"margin\": {\"b\": 5, \"l\": 5, \"r\": 5, \"t\": 5}, \"template\": {\"data\": {\"bar\": [{\"error_x\": {\"color\": \"#2a3f5f\"}, \"error_y\": {\"color\": \"#2a3f5f\"}, \"marker\": {\"line\": {\"color\": \"#E5ECF6\", \"width\": 0.5}}, \"type\": \"bar\"}], \"barpolar\": [{\"marker\": {\"line\": {\"color\": \"#E5ECF6\", \"width\": 0.5}}, \"type\": \"barpolar\"}], \"carpet\": [{\"aaxis\": {\"endlinecolor\": \"#2a3f5f\", \"gridcolor\": \"white\", \"linecolor\": \"white\", \"minorgridcolor\": \"white\", \"startlinecolor\": \"#2a3f5f\"}, \"baxis\": {\"endlinecolor\": \"#2a3f5f\", \"gridcolor\": \"white\", \"linecolor\": \"white\", \"minorgridcolor\": \"white\", \"startlinecolor\": \"#2a3f5f\"}, \"type\": \"carpet\"}], \"choropleth\": [{\"colorbar\": {\"outlinewidth\": 0, \"ticks\": \"\"}, \"type\": \"choropleth\"}], \"contour\": [{\"colorbar\": {\"outlinewidth\": 0, \"ticks\": \"\"}, \"colorscale\": [[0.0, \"#0d0887\"], [0.1111111111111111, \"#46039f\"], [0.2222222222222222, \"#7201a8\"], [0.3333333333333333, \"#9c179e\"], [0.4444444444444444, \"#bd3786\"], [0.5555555555555556, \"#d8576b\"], [0.6666666666666666, \"#ed7953\"], [0.7777777777777778, \"#fb9f3a\"], [0.8888888888888888, \"#fdca26\"], [1.0, \"#f0f921\"]], \"type\": \"contour\"}], \"contourcarpet\": [{\"colorbar\": {\"outlinewidth\": 0, \"ticks\": \"\"}, \"type\": \"contourcarpet\"}], \"heatmap\": [{\"colorbar\": {\"outlinewidth\": 0, \"ticks\": \"\"}, \"colorscale\": [[0.0, \"#0d0887\"], [0.1111111111111111, \"#46039f\"], [0.2222222222222222, \"#7201a8\"], [0.3333333333333333, \"#9c179e\"], [0.4444444444444444, \"#bd3786\"], [0.5555555555555556, \"#d8576b\"], [0.6666666666666666, \"#ed7953\"], [0.7777777777777778, \"#fb9f3a\"], [0.8888888888888888, \"#fdca26\"], [1.0, \"#f0f921\"]], \"type\": \"heatmap\"}], \"heatmapgl\": [{\"colorbar\": {\"outlinewidth\": 0, \"ticks\": \"\"}, \"colorscale\": [[0.0, \"#0d0887\"], [0.1111111111111111, \"#46039f\"], [0.2222222222222222, \"#7201a8\"], [0.3333333333333333, \"#9c179e\"], [0.4444444444444444, \"#bd3786\"], [0.5555555555555556, \"#d8576b\"], [0.6666666666666666, \"#ed7953\"], [0.7777777777777778, \"#fb9f3a\"], [0.8888888888888888, \"#fdca26\"], [1.0, \"#f0f921\"]], \"type\": \"heatmapgl\"}], \"histogram\": [{\"marker\": {\"colorbar\": {\"outlinewidth\": 0, \"ticks\": \"\"}}, \"type\": \"histogram\"}], \"histogram2d\": [{\"colorbar\": {\"outlinewidth\": 0, \"ticks\": \"\"}, \"colorscale\": [[0.0, \"#0d0887\"], [0.1111111111111111, \"#46039f\"], [0.2222222222222222, \"#7201a8\"], [0.3333333333333333, \"#9c179e\"], [0.4444444444444444, \"#bd3786\"], [0.5555555555555556, \"#d8576b\"], [0.6666666666666666, \"#ed7953\"], [0.7777777777777778, \"#fb9f3a\"], [0.8888888888888888, \"#fdca26\"], [1.0, \"#f0f921\"]], \"type\": \"histogram2d\"}], \"histogram2dcontour\": [{\"colorbar\": {\"outlinewidth\": 0, \"ticks\": \"\"}, \"colorscale\": [[0.0, \"#0d0887\"], [0.1111111111111111, \"#46039f\"], [0.2222222222222222, \"#7201a8\"], [0.3333333333333333, \"#9c179e\"], [0.4444444444444444, \"#bd3786\"], [0.5555555555555556, \"#d8576b\"], [0.6666666666666666, \"#ed7953\"], [0.7777777777777778, \"#fb9f3a\"], [0.8888888888888888, \"#fdca26\"], [1.0, \"#f0f921\"]], \"type\": \"histogram2dcontour\"}], \"mesh3d\": [{\"colorbar\": {\"outlinewidth\": 0, \"ticks\": \"\"}, \"type\": \"mesh3d\"}], \"parcoords\": [{\"line\": {\"colorbar\": {\"outlinewidth\": 0, \"ticks\": \"\"}}, \"type\": \"parcoords\"}], \"pie\": [{\"automargin\": true, \"type\": \"pie\"}], \"scatter\": [{\"marker\": {\"colorbar\": {\"outlinewidth\": 0, \"ticks\": \"\"}}, \"type\": \"scatter\"}], \"scatter3d\": [{\"line\": {\"colorbar\": {\"outlinewidth\": 0, \"ticks\": \"\"}}, \"marker\": {\"colorbar\": {\"outlinewidth\": 0, \"ticks\": \"\"}}, \"type\": \"scatter3d\"}], \"scattercarpet\": [{\"marker\": {\"colorbar\": {\"outlinewidth\": 0, \"ticks\": \"\"}}, \"type\": \"scattercarpet\"}], \"scattergeo\": [{\"marker\": {\"colorbar\": {\"outlinewidth\": 0, \"ticks\": \"\"}}, \"type\": \"scattergeo\"}], \"scattergl\": [{\"marker\": {\"colorbar\": {\"outlinewidth\": 0, \"ticks\": \"\"}}, \"type\": \"scattergl\"}], \"scattermapbox\": [{\"marker\": {\"colorbar\": {\"outlinewidth\": 0, \"ticks\": \"\"}}, \"type\": \"scattermapbox\"}], \"scatterpolar\": [{\"marker\": {\"colorbar\": {\"outlinewidth\": 0, \"ticks\": \"\"}}, \"type\": \"scatterpolar\"}], \"scatterpolargl\": [{\"marker\": {\"colorbar\": {\"outlinewidth\": 0, \"ticks\": \"\"}}, \"type\": \"scatterpolargl\"}], \"scatterternary\": [{\"marker\": {\"colorbar\": {\"outlinewidth\": 0, \"ticks\": \"\"}}, \"type\": \"scatterternary\"}], \"surface\": [{\"colorbar\": {\"outlinewidth\": 0, \"ticks\": \"\"}, \"colorscale\": [[0.0, \"#0d0887\"], [0.1111111111111111, \"#46039f\"], [0.2222222222222222, \"#7201a8\"], [0.3333333333333333, \"#9c179e\"], [0.4444444444444444, \"#bd3786\"], [0.5555555555555556, \"#d8576b\"], [0.6666666666666666, \"#ed7953\"], [0.7777777777777778, \"#fb9f3a\"], [0.8888888888888888, \"#fdca26\"], [1.0, \"#f0f921\"]], \"type\": \"surface\"}], \"table\": [{\"cells\": {\"fill\": {\"color\": \"#EBF0F8\"}, \"line\": {\"color\": \"white\"}}, \"header\": {\"fill\": {\"color\": \"#C8D4E3\"}, \"line\": {\"color\": \"white\"}}, \"type\": \"table\"}]}, \"layout\": {\"annotationdefaults\": {\"arrowcolor\": \"#2a3f5f\", \"arrowhead\": 0, \"arrowwidth\": 1}, \"coloraxis\": {\"colorbar\": {\"outlinewidth\": 0, \"ticks\": \"\"}}, \"colorscale\": {\"diverging\": [[0, \"#8e0152\"], [0.1, \"#c51b7d\"], [0.2, \"#de77ae\"], [0.3, \"#f1b6da\"], [0.4, \"#fde0ef\"], [0.5, \"#f7f7f7\"], [0.6, \"#e6f5d0\"], [0.7, \"#b8e186\"], [0.8, \"#7fbc41\"], [0.9, \"#4d9221\"], [1, \"#276419\"]], \"sequential\": [[0.0, \"#0d0887\"], [0.1111111111111111, \"#46039f\"], [0.2222222222222222, \"#7201a8\"], [0.3333333333333333, \"#9c179e\"], [0.4444444444444444, \"#bd3786\"], [0.5555555555555556, \"#d8576b\"], [0.6666666666666666, \"#ed7953\"], [0.7777777777777778, \"#fb9f3a\"], [0.8888888888888888, \"#fdca26\"], [1.0, \"#f0f921\"]], \"sequentialminus\": [[0.0, \"#0d0887\"], [0.1111111111111111, \"#46039f\"], [0.2222222222222222, \"#7201a8\"], [0.3333333333333333, \"#9c179e\"], [0.4444444444444444, \"#bd3786\"], [0.5555555555555556, \"#d8576b\"], [0.6666666666666666, \"#ed7953\"], [0.7777777777777778, \"#fb9f3a\"], [0.8888888888888888, \"#fdca26\"], [1.0, \"#f0f921\"]]}, \"colorway\": [\"#636efa\", \"#EF553B\", \"#00cc96\", \"#ab63fa\", \"#FFA15A\", \"#19d3f3\", \"#FF6692\", \"#B6E880\", \"#FF97FF\", \"#FECB52\"], \"font\": {\"color\": \"#2a3f5f\"}, \"geo\": {\"bgcolor\": \"white\", \"lakecolor\": \"white\", \"landcolor\": \"#E5ECF6\", \"showlakes\": true, \"showland\": true, \"subunitcolor\": \"white\"}, \"hoverlabel\": {\"align\": \"left\"}, \"hovermode\": \"closest\", \"mapbox\": {\"style\": \"light\"}, \"paper_bgcolor\": \"white\", \"plot_bgcolor\": \"#E5ECF6\", \"polar\": {\"angularaxis\": {\"gridcolor\": \"white\", \"linecolor\": \"white\", \"ticks\": \"\"}, \"bgcolor\": \"#E5ECF6\", \"radialaxis\": {\"gridcolor\": \"white\", \"linecolor\": \"white\", \"ticks\": \"\"}}, \"scene\": {\"xaxis\": {\"backgroundcolor\": \"#E5ECF6\", \"gridcolor\": \"white\", \"gridwidth\": 2, \"linecolor\": \"white\", \"showbackground\": true, \"ticks\": \"\", \"zerolinecolor\": \"white\"}, \"yaxis\": {\"backgroundcolor\": \"#E5ECF6\", \"gridcolor\": \"white\", \"gridwidth\": 2, \"linecolor\": \"white\", \"showbackground\": true, \"ticks\": \"\", \"zerolinecolor\": \"white\"}, \"zaxis\": {\"backgroundcolor\": \"#E5ECF6\", \"gridcolor\": \"white\", \"gridwidth\": 2, \"linecolor\": \"white\", \"showbackground\": true, \"ticks\": \"\", \"zerolinecolor\": \"white\"}}, \"shapedefaults\": {\"line\": {\"color\": \"#2a3f5f\"}}, \"ternary\": {\"aaxis\": {\"gridcolor\": \"white\", \"linecolor\": \"white\", \"ticks\": \"\"}, \"baxis\": {\"gridcolor\": \"white\", \"linecolor\": \"white\", \"ticks\": \"\"}, \"bgcolor\": \"#E5ECF6\", \"caxis\": {\"gridcolor\": \"white\", \"linecolor\": \"white\", \"ticks\": \"\"}}, \"title\": {\"x\": 0.05}, \"xaxis\": {\"automargin\": true, \"gridcolor\": \"white\", \"linecolor\": \"white\", \"ticks\": \"\", \"title\": {\"standoff\": 15}, \"zerolinecolor\": \"white\", \"zerolinewidth\": 2}, \"yaxis\": {\"automargin\": true, \"gridcolor\": \"white\", \"linecolor\": \"white\", \"ticks\": \"\", \"title\": {\"standoff\": 15}, \"zerolinecolor\": \"white\", \"zerolinewidth\": 2}}}, \"width\": 1300},\n",
              "                        {\"responsive\": true}\n",
              "                    ).then(function(){\n",
              "                            \n",
              "var gd = document.getElementById('bca1e2af-4447-4441-ac0b-52313e164c7c');\n",
              "var x = new MutationObserver(function (mutations, observer) {{\n",
              "        var display = window.getComputedStyle(gd).display;\n",
              "        if (!display || display === 'none') {{\n",
              "            console.log([gd, 'removed!']);\n",
              "            Plotly.purge(gd);\n",
              "            observer.disconnect();\n",
              "        }}\n",
              "}});\n",
              "\n",
              "// Listen for the removal of the full notebook cells\n",
              "var notebookContainer = gd.closest('#notebook-container');\n",
              "if (notebookContainer) {{\n",
              "    x.observe(notebookContainer, {childList: true});\n",
              "}}\n",
              "\n",
              "// Listen for the clearing of the current output cell\n",
              "var outputEl = gd.closest('.output');\n",
              "if (outputEl) {{\n",
              "    x.observe(outputEl, {childList: true});\n",
              "}}\n",
              "\n",
              "                        })\n",
              "                };\n",
              "                \n",
              "            </script>\n",
              "        </div>\n",
              "</body>\n",
              "</html>"
            ]
          },
          "metadata": {
            "tags": []
          }
        }
      ]
    },
    {
      "cell_type": "markdown",
      "metadata": {
        "id": "ikq9RDTMSHth"
      },
      "source": [
        "# **<font color='darkblue'> 6. Confusion Matrix </font>**"
      ]
    },
    {
      "cell_type": "markdown",
      "metadata": {
        "id": "eR_6zkfmo6iY"
      },
      "source": [
        "Confusion Matix is applied on Naive Bayes Algorithm as its Accuracy is not 100%."
      ]
    },
    {
      "cell_type": "code",
      "metadata": {
        "id": "JtkPBbMQSTYz",
        "outputId": "7b3bfbc1-dab4-4bcd-ecfd-5eadabab163e",
        "colab": {
          "base_uri": "https://localhost:8080/",
          "height": 981
        }
      },
      "source": [
        "from sklearn.metrics import confusion_matrix\n",
        "from sklearn.metrics import plot_confusion_matrix\n",
        "import matplotlib.pyplot as plt\n",
        "from sklearn.metrics import classification_report\n",
        "\n",
        "\n",
        "print('\\n\\033[1m\\033[94m Confusion Matrix on Naive Bayes \\033[0m\\n')\n",
        "prediction, a, b = train_model_others(naive_bayes.MultinomialNB(), X, y, Xt, yt)\n",
        "print(classification_report(yt, prediction))\n",
        "\n",
        "# Plot non-normalized confusion matrix\n",
        "titles_options = [(\"Confusion matrix, without normalization\", None),\n",
        "                  (\"Normalized confusion matrix\", 'true')]\n",
        "\n",
        "print('\\n\\n\\033[1m\\033[94m False Positive in Naive Bayes \\033[0m\\n')\n",
        "for title, normalize in titles_options:\n",
        "    disp = plot_confusion_matrix(naive_bayes.MultinomialNB().fit(X,y), Xt, yt,\n",
        "                                 cmap=plt.cm.Blues,\n",
        "                                 normalize=normalize)\n",
        "    disp.ax_.set_title(title)\n",
        "\n",
        "    # print(title)\n",
        "    # print(disp.confusion_matrix)\n",
        "    if(normalize == None):\n",
        "      print(\"Without Normalization: \", disp.confusion_matrix[0][1], \"\\n\")\n",
        "    else:\n",
        "      print(\"With Normalization: \", disp.confusion_matrix[0][1], \"\\n\")\n",
        "\n",
        "print('\\n\\n\\033[1m\\033[94m Confusion Matrix of Naive Bayes \\033[0m\\n')\n",
        "plt.show()"
      ],
      "execution_count": null,
      "outputs": [
        {
          "output_type": "stream",
          "text": [
            "\n",
            "\u001b[1m\u001b[94m Confusion Matrix on Naive Bayes \u001b[0m\n",
            "\n",
            "              precision    recall  f1-score   support\n",
            "\n",
            "           0       0.62      0.61      0.62       108\n",
            "           1       0.55      0.57      0.56        92\n",
            "\n",
            "    accuracy                           0.59       200\n",
            "   macro avg       0.59      0.59      0.59       200\n",
            "weighted avg       0.59      0.59      0.59       200\n",
            "\n",
            "\n",
            "\n",
            "\u001b[1m\u001b[94m False Positive in Naive Bayes \u001b[0m\n",
            "\n",
            "Without Normalization:  42 \n",
            "\n",
            "With Normalization:  0.3888888888888889 \n",
            "\n",
            "\n",
            "\n",
            "\u001b[1m\u001b[94m Confusion Matrix of Naive Bayes \u001b[0m\n",
            "\n"
          ],
          "name": "stdout"
        },
        {
          "output_type": "display_data",
          "data": {
            "image/png": "[encoded data removed]",
            "text/plain": [
              "<Figure size 432x288 with 2 Axes>"
            ]
          },
          "metadata": {
            "tags": [],
            "needs_background": "light"
          }
        },
        {
          "output_type": "display_data",
          "data": {
            "image/png": "[encoded data removed]",
            "text/plain": [
              "<Figure size 432x288 with 2 Axes>"
            ]
          },
          "metadata": {
            "tags": [],
            "needs_background": "light"
          }
        }
      ]
    },
    {
      "cell_type": "markdown",
      "metadata": {
        "id": "9xvFJtqxxg0C"
      },
      "source": [
        "# **<font color='darkblue'> 7. Cross Validation </font>**"
      ]
    },
    {
      "cell_type": "markdown",
      "metadata": {
        "id": "0wjE5l3IT3Ys"
      },
      "source": [
        "We will validate our all models using below Methods:\n",
        "\n",
        "\n",
        "*   2-Fold Cross Validation\n",
        "*   5-Fold Cross Validation\n",
        "*   10-Fold Cross Validation\n",
        "*   Jackknif Cross Validation\n",
        "\n"
      ]
    },
    {
      "cell_type": "markdown",
      "metadata": {
        "id": "FDnGn2SuTeFY"
      },
      "source": [
        "### **<font color='mediumblue'> 7.1 Create Validation Methods </font>**"
      ]
    },
    {
      "cell_type": "markdown",
      "metadata": {
        "id": "7l9i5kbbTvpR"
      },
      "source": [
        "#### **Utility Components**\n",
        "\n",
        "Utility variables initialized to keep the Accuracy for each model and Results of Sample outputs.\n",
        "\n",
        "*   ***plot_bar_chart():*** This function draws Bar Chart of models'accuracy based on Validation output for K-Based cross validation\n",
        "\n"
      ]
    },
    {
      "cell_type": "code",
      "metadata": {
        "id": "Y9w4h4mmTdRl"
      },
      "source": [
        "models_for_validation = [\"MLNN\", \"Linear Regression\", \"KNN\", \"SVM\", \"Logistic Regression\", \"Bagging (Random Forest)\", \"Boosting (XGB Classifier)\", \"Naive Bayes\"]\n",
        "\n",
        "# Draw the bar chart\n",
        "def plot_bar_chart(data):\n",
        "  x = np.arange(data.shape[0])\n",
        "  dx = (np.arange(data.shape[1])-data.shape[1]/2.)/(data.shape[1]+2.)\n",
        "  d = 1./(data.shape[1]+2.)\n",
        "\n",
        "  y_colors = ['#161692', '#33A8FF', '#33FCFF', '#33DDFF', '#5BF3AE', '#F0DA22', '#44CEE7', '#0EC5FB', '#0EFBD0', '#74ECE4', '#557DB3']\n",
        "  # y_colors = ['#1726A0', '#33A8FF', '#74ECE4', '#E7D41A', '#557DB3', '#4FE091', '#6F79CF', '#33FCFF', '#44CEE7', '#33A8FF', '#698BEB', '#8DA0D5', '#0F80DA', '#60ADEA', '#14A0BC', '#0F9160', '#07BFBC', '#71B8CF', '#16A8D7']\n",
        "\n",
        "  x_ticklabels = ['MLNN', 'LR', 'KNN', 'SVC', 'LogR', 'RF', 'XGB', 'NB']\n",
        "\n",
        "  fig, ax=plt.subplots()\n",
        "  for i in range(data.shape[1]):\n",
        "      ax.bar(x+dx[i],data[:,i], width=d, color=y_colors[i%10], tick_label=x_ticklabels)\n",
        "\n",
        "  plt.xlabel(\"Model\")\n",
        "  plt.ylabel(\"Accuracy\")\n",
        "  plt.tight_layout()\n",
        "  plt.show()"
      ],
      "execution_count": null,
      "outputs": []
    },
    {
      "cell_type": "markdown",
      "metadata": {
        "id": "7530Xfy50vF4"
      },
      "source": [
        "*   ***plot_jackkife_bar_chart():*** This function draws ***Bar Chart*** of models'accuracy based on Validation output only for Jackknife method.\n",
        "\n",
        "    target_model_name: this is the label toward x-axis, the target model name (i.e MLNN, KNN, rtc.)\n",
        "\n"
      ]
    },
    {
      "cell_type": "code",
      "metadata": {
        "id": "c_8jnT2D1rQ5"
      },
      "source": [
        "def plot_jackkife_bar_chart(data, target_model_name):\n",
        "\n",
        "  y_colors = ['#161692', '#33A8FF', '#33FCFF', '#33DDFF', '#5BF3AE', '#F0DA22', '#44CEE7', '#0EC5FB', '#0EFBD0', '#74ECE4', '#557DB3']\n",
        "\n",
        "  x=range(len(data))\n",
        "  plt.figure(figsize=(7, 5)) \n",
        "  plt.bar(x, [val for val in data], align='center', width=0.5, color=y_colors )\n",
        "\n",
        "  plt.xlabel(target_model_name)\n",
        "  plt.ylabel(\"Accuracy\")\n",
        "  plt.tight_layout()\n",
        "  plt.show()"
      ],
      "execution_count": null,
      "outputs": []
    },
    {
      "cell_type": "markdown",
      "metadata": {
        "id": "09qTBCWf3V4A"
      },
      "source": [
        "*   ***plot_jackkife_line_chart():*** This function draws ***Line Chart*** of models'accuracy based on Validation output only for Jackknife method.\n",
        "\n",
        "    target_model_name: this is the label toward x-axis, the target model name (i.e MLNN, KNN, rtc.)\n",
        "\n"
      ]
    },
    {
      "cell_type": "code",
      "metadata": {
        "id": "VNZ1XCdY3MGq"
      },
      "source": [
        "def plot_jackkife_line_chart(data, target_model_name):\n",
        "\n",
        "  x=range(len(data))\n",
        "\n",
        "  if(target_model_name == models_for_validation[7]):\n",
        "    plt.figure(figsize=(20, 5))\n",
        "  else:\n",
        "    plt.figure(figsize=(7,5))\n",
        "\n",
        "  plt.plot(x, [val for val in data], color='#33A8FF')\n",
        "\n",
        "  plt.xlabel(target_model_name)\n",
        "  plt.ylabel(\"Accuracy\")\n",
        "  plt.tight_layout()\n",
        "  plt.show()"
      ],
      "execution_count": null,
      "outputs": []
    },
    {
      "cell_type": "markdown",
      "metadata": {
        "id": "kRal4XPxpztQ"
      },
      "source": [
        "#### **KFold Cross Validation Menthods**"
      ]
    },
    {
      "cell_type": "code",
      "metadata": {
        "id": "TloLGkQwqw7c"
      },
      "source": [
        "def kfold_cross_validation(k_value):\n",
        "\n",
        "  # List Variable to keep the accuracy value in each fold for each Model\n",
        "  MLNN_accuracy, Linearregression_accuracy, knn_accuracy, svc_accuracy, LogisticRegression_accuracy = [], [], [], [], []\n",
        "  RandomForest_accuracy, XGBClassifier_accuracy, NaiveBays_accuracy = [], [], []\n",
        "\n",
        "  # Use KFold library to apply the method on our system\n",
        "  kf = KFold(n_splits=k_value,shuffle=False)\n",
        "  kf.split(X)\n",
        "\n",
        "  for train_index, test_index in kf.split(X):\n",
        "\n",
        "      # Split train-test\n",
        "      X_val_train, X_val_test = X[train_index], X[test_index]\n",
        "      y_val_train, y_val_test = y[train_index], y[test_index]\n",
        "\n",
        "      user_input_preds = []\n",
        "\n",
        "      # Train our models one by one with the splited train-test data and get accuracy\n",
        "      prediction, weights = train_model_mlnn(X_val_train, y_val_train, X_val_test, y_val_test, False)\n",
        "      MLNN_accuracy.append(accuracy_score(y_val_test, prediction))\n",
        "\n",
        "      prediction, accuracy, user_input_preds = train_model_linear_regression(X_val_train, y_val_train, X_val_test, y_val_test)\n",
        "      Linearregression_accuracy.append(accuracy_score(y_val_test, prediction))\n",
        "\n",
        "      prediction, accuracy, user_input_preds = train_model_others(KNeighborsRegressor(n_neighbors=5), X_val_train, y_val_train, X_val_test, y_val_test)\n",
        "      knn_accuracy.append(accuracy_score(y_val_test, prediction))\n",
        "\n",
        "      prediction, accuracy, user_input_preds = train_model_others(svm.SVC(), X_val_train, y_val_train, X_val_test, y_val_test)\n",
        "      svc_accuracy.append(accuracy_score(y_val_test, prediction))\n",
        "\n",
        "      prediction, accuracy, user_input_preds = train_model_others(linear_model.LogisticRegression(), X_val_train, y_val_train, X_val_test, y_val_test)\n",
        "      LogisticRegression_accuracy.append(accuracy_score(y_val_test, prediction))\n",
        "\n",
        "      prediction, accuracy, user_input_preds = train_model_others(ensemble.RandomForestClassifier(), X_val_train, y_val_train, X_val_test, y_val_test)\n",
        "      RandomForest_accuracy.append(accuracy_score(y_val_test, prediction))\n",
        "\n",
        "      prediction, accuracy, user_input_preds = train_model_others(xgboost.XGBClassifier(), X_val_train, y_val_train, X_val_test, y_val_test)\n",
        "      XGBClassifier_accuracy.append(accuracy_score(y_val_test, prediction))\n",
        "    \n",
        "      prediction, accuracy, user_input_preds = train_model_others(naive_bayes.MultinomialNB(), X_val_train, y_val_train, X_val_test, y_val_test)\n",
        "      NaiveBays_accuracy.append(accuracy_score(y_val_test, prediction))\n",
        "\n",
        "\n",
        "  print(MLNN_accuracy, Linearregression_accuracy, knn_accuracy, svc_accuracy, LogisticRegression_accuracy, RandomForest_accuracy, XGBClassifier_accuracy, NaiveBays_accuracy, \"\\n\")\n",
        "  return MLNN_accuracy, Linearregression_accuracy, knn_accuracy, svc_accuracy, LogisticRegression_accuracy, RandomForest_accuracy, XGBClassifier_accuracy, NaiveBays_accuracy"
      ],
      "execution_count": null,
      "outputs": []
    },
    {
      "cell_type": "markdown",
      "metadata": {
        "id": "exHrO43KJ_l9"
      },
      "source": [
        "#### **Jackknif Cross Validation Menthods**\n",
        "\n",
        "As this method acts as destructive on for large dataset due to its processing time, We will have to **reduce \"max_data\"** value to execute this"
      ]
    },
    {
      "cell_type": "code",
      "metadata": {
        "id": "d83TNMZ0KAxU"
      },
      "source": [
        "def jackknife_cross_validation(target_model):\n",
        "\n",
        "  jackknife_accuracy = []\n",
        "\n",
        "  X_symptoms = symptoms_array.astype(np.int)\n",
        "  y_label = labels_array.astype(np.int)\n",
        "\n",
        "  looc = LeaveOneOut()\n",
        "  looc.get_n_splits(X_symptoms)\n",
        "\n",
        "  for train_index, test_index in looc.split(X_symptoms):\n",
        "    X_val_train, X_val_test = X_symptoms[train_index], X_symptoms[test_index]\n",
        "    y_val_train, y_val_test = y_label[train_index], y_label[test_index]\n",
        "\n",
        "    user_input_preds = []\n",
        "\n",
        "    if (target_model == models_for_validation[0]):\n",
        "      prediction, weights = train_model_mlnn(X_val_train, y_val_train, X_val_test, y_val_test, False)\n",
        "      jackknife_accuracy.append(accuracy_score(y_val_test, prediction))\n",
        "\n",
        "    elif (target_model == models_for_validation[1]):\n",
        "      prediction, accuracy, user_input_preds = train_model_linear_regression(X_val_train, y_val_train, X_val_test, y_val_test)\n",
        "      jackknife_accuracy.append(accuracy_score(y_val_test, prediction))\n",
        "\n",
        "    elif (target_model == models_for_validation[2]):\n",
        "      prediction, accuracy, user_input_preds = train_model_others(KNeighborsRegressor(n_neighbors=5), X_val_train, y_val_train, X_val_test, y_val_test)\n",
        "      jackknife_accuracy.append(accuracy_score(y_val_test, prediction))\n",
        "\n",
        "    elif (target_model == models_for_validation[3]):\n",
        "      prediction, accuracy, user_input_preds = train_model_others(svm.SVC(), X_val_train, y_val_train, X_val_test, y_val_test)\n",
        "      jackknife_accuracy.append(accuracy_score(y_val_test, prediction))\n",
        "\n",
        "    elif (target_model == models_for_validation[4]):\n",
        "      prediction, accuracy, user_input_preds = train_model_others(linear_model.LogisticRegression(), X_val_train, y_val_train, X_val_test, y_val_test)\n",
        "      jackknife_accuracy.append(accuracy_score(y_val_test, prediction))\n",
        "\n",
        "    elif (target_model == models_for_validation[5]):\n",
        "      prediction, accuracy, user_input_preds = train_model_others(ensemble.RandomForestClassifier(), X_val_train, y_val_train, X_val_test, y_val_test)\n",
        "      jackknife_accuracy.append(accuracy_score(y_val_test, prediction))\n",
        "\n",
        "    elif (target_model == models_for_validation[6]):\n",
        "      prediction, accuracy, user_input_preds = train_model_others(xgboost.XGBClassifier(), X_val_train, y_val_train, X_val_test, y_val_test)\n",
        "      jackknife_accuracy.append(accuracy_score(y_val_test, prediction))\n",
        "  \n",
        "    elif (target_model == models_for_validation[7]):\n",
        "      prediction, accuracy, user_input_preds = train_model_others(naive_bayes.MultinomialNB(), X_val_train, y_val_train, X_val_test, y_val_test)\n",
        "      jackknife_accuracy.append(accuracy_score(y_val_test, prediction))\n",
        "\n",
        "  print(\"\\n\", target_model, \" Accuracy: \\n\", jackknife_accuracy, \"\\n\")\n",
        "  return jackknife_accuracy"
      ],
      "execution_count": null,
      "outputs": []
    },
    {
      "cell_type": "markdown",
      "metadata": {
        "id": "73CdqwmHqB_f"
      },
      "source": [
        "### **<font color='mediumblue'> 7.2 Execute Validation on All Models </font>**\n",
        " \n",
        "Apply Validation Methods for all Models and check accuracy:\n",
        "\n",
        "\n",
        "*   2-Fold Cross Validation\n",
        "*   5-Fold Cross Validation\n",
        "*   10-Fold Cross Validation\n",
        "*   Jackknife Cross Validation\n",
        "\n"
      ]
    },
    {
      "cell_type": "code",
      "metadata": {
        "id": "FBnx-QHexybC",
        "outputId": "a6b849b4-e897-4482-9eb9-d9ce5d2f8390",
        "colab": {
          "base_uri": "https://localhost:8080/",
          "height": 414
        }
      },
      "source": [
        "def execute_validation_for_all_models():\n",
        "\n",
        "  # print('\\n\\033[1m\\033[94m 2-Fold Validation Result \\033[0m\\n')\n",
        "  # data = np.array(kfold_cross_validation(2))\n",
        "  # plot_bar_chart(data)\n",
        "\n",
        "  # print('\\n\\033[1m\\033[94m 5-Fold Validation Result \\033[0m\\n')\n",
        "  # data = np.array(kfold_cross_validation(5))\n",
        "  # plot_bar_chart(data)\n",
        "\n",
        "  # print('\\n\\033[1m\\033[94m 10-Fold Validation Result \\033[0m\\n')\n",
        "  # data = np.array(kfold_cross_validation(10))\n",
        "  # plot_bar_chart(data)\n",
        "\n",
        "  # print('\\n\\033[1m\\033[94m Jackknife Validation Result \\033[0m\\n')\n",
        "  # data = np.array(jackknife_cross_validation(models_for_validation[0]))\n",
        "  # plot_jackkife_line_chart(data, models_for_validation[0])\n",
        "\n",
        "  # data = np.array(jackknife_cross_validation(models_for_validation[1]))\n",
        "  # plot_jackkife_line_chart(data, models_for_validation[1])\n",
        "\n",
        "  # data = np.array(jackknife_cross_validation(models_for_validation[2]))\n",
        "  # plot_jackkife_line_chart(data, models_for_validation[2])\n",
        "\n",
        "  # data = np.array(jackknife_cross_validation(models_for_validation[3]))\n",
        "  # plot_jackkife_line_chart(data, models_for_validation[3])\n",
        "\n",
        "  # data = np.array(jackknife_cross_validation(models_for_validation[4]))\n",
        "  # plot_jackkife_line_chart(data, models_for_validation[4])\n",
        "\n",
        "  # data = np.array(jackknife_cross_validation(models_for_validation[5]))\n",
        "  # plot_jackkife_line_chart(data, models_for_validation[5])\n",
        "\n",
        "  # data = np.array(jackknife_cross_validation(models_for_validation[6]))\n",
        "  # plot_jackkife_line_chart(data, models_for_validation[6])\n",
        "\n",
        "  data = np.array(jackknife_cross_validation(models_for_validation[7]))\n",
        "  plot_jackkife_line_chart(data, models_for_validation[7])\n",
        "\n",
        "# Execution Starts From Here\n",
        "execute_validation_for_all_models()"
      ],
      "execution_count": null,
      "outputs": [
        {
          "output_type": "stream",
          "text": [
            "\n",
            " Naive Bayes  Accuracy: \n",
            " [1.0, 1.0, 1.0, 1.0, 1.0, 1.0, 1.0, 1.0, 1.0, 1.0, 1.0, 1.0, 1.0, 1.0, 1.0, 1.0, 1.0, 1.0, 1.0, 1.0, 1.0, 1.0, 1.0, 1.0, 1.0, 1.0, 1.0, 1.0, 1.0, 1.0, 0.0, 0.0, 0.0, 0.0, 0.0, 0.0, 0.0, 0.0, 0.0, 0.0, 0.0, 0.0, 0.0, 0.0, 0.0, 0.0, 0.0, 0.0, 0.0, 0.0, 0.0, 0.0, 0.0, 0.0, 0.0, 0.0, 0.0, 1.0, 1.0, 1.0, 0.0, 0.0, 0.0, 1.0, 1.0, 1.0, 1.0, 1.0, 1.0, 1.0, 1.0, 1.0, 1.0, 1.0, 1.0, 0.0, 0.0, 0.0, 1.0, 1.0, 1.0, 1.0, 1.0, 1.0, 1.0, 1.0, 1.0, 1.0, 1.0, 1.0, 1.0, 1.0, 1.0, 1.0, 1.0, 1.0, 1.0, 1.0, 1.0, 1.0, 1.0, 1.0, 1.0, 1.0, 1.0, 1.0, 1.0, 1.0, 1.0, 1.0, 1.0, 1.0, 1.0, 1.0, 1.0, 1.0, 1.0, 1.0, 1.0, 1.0, 1.0, 1.0, 1.0, 1.0, 1.0, 1.0, 1.0, 1.0, 1.0, 1.0, 1.0, 1.0, 1.0, 1.0, 1.0, 1.0, 1.0, 1.0, 1.0, 1.0, 1.0, 1.0, 1.0, 1.0, 1.0, 1.0, 1.0, 1.0, 1.0, 1.0, 0.0, 0.0, 0.0, 0.0, 0.0, 0.0, 0.0, 0.0, 0.0, 0.0, 0.0, 0.0, 0.0, 0.0, 0.0, 1.0, 1.0, 1.0, 0.0, 0.0, 0.0, 0.0, 0.0, 0.0, 0.0, 0.0, 0.0, 0.0, 0.0, 0.0, 1.0, 1.0, 1.0, 1.0, 1.0, 1.0, 1.0, 1.0, 1.0, 1.0, 1.0, 1.0, 1.0, 1.0, 1.0, 1.0, 1.0, 1.0, 1.0, 1.0, 1.0, 1.0, 1.0, 1.0, 1.0, 1.0, 1.0, 1.0, 1.0, 1.0, 1.0, 1.0, 1.0, 1.0, 1.0, 1.0, 1.0, 1.0, 1.0, 1.0, 1.0, 1.0, 1.0, 1.0, 1.0, 1.0, 1.0, 1.0, 1.0, 1.0, 1.0, 1.0, 1.0, 1.0, 1.0, 1.0, 1.0, 1.0, 1.0, 1.0, 0.0, 0.0, 0.0, 1.0, 1.0, 1.0, 0.0, 0.0, 0.0, 0.0, 0.0, 0.0, 0.0, 0.0, 0.0, 0.0, 0.0, 0.0, 0.0, 0.0, 0.0, 0.0, 0.0, 0.0, 0.0, 0.0, 0.0, 0.0, 0.0, 0.0, 0.0, 0.0, 0.0, 0.0, 0.0, 0.0, 0.0, 0.0, 0.0, 0.0, 0.0, 0.0, 0.0, 0.0, 0.0, 1.0, 1.0, 1.0, 1.0, 1.0, 1.0, 1.0, 1.0, 1.0, 1.0, 1.0, 1.0, 1.0, 1.0, 1.0, 1.0, 1.0, 1.0, 1.0, 1.0, 1.0, 1.0, 1.0, 1.0, 1.0, 1.0, 1.0, 0.0, 0.0, 0.0, 1.0, 1.0, 1.0, 0.0, 0.0, 0.0, 0.0, 0.0, 0.0, 0.0, 0.0, 0.0, 0.0, 0.0, 0.0, 0.0, 0.0, 0.0, 0.0, 0.0, 0.0, 0.0, 0.0, 0.0, 0.0, 0.0, 0.0, 1.0, 1.0, 1.0, 0.0, 0.0, 0.0, 0.0, 0.0, 0.0, 0.0, 0.0, 0.0, 0.0, 0.0, 0.0, 0.0, 0.0, 0.0, 0.0, 0.0, 0.0, 0.0, 0.0, 0.0, 0.0, 0.0, 0.0, 0.0, 0.0, 0.0, 0.0, 0.0, 0.0, 0.0, 0.0, 0.0, 0.0, 0.0, 0.0, 0.0, 0.0, 0.0, 0.0, 0.0, 0.0, 0.0, 0.0, 0.0, 0.0, 0.0, 0.0, 0.0, 0.0, 0.0, 0.0, 0.0, 0.0, 0.0, 0.0, 0.0, 1.0, 1.0, 1.0, 1.0, 1.0, 1.0, 1.0, 1.0, 1.0, 1.0, 1.0, 1.0, 1.0, 1.0, 1.0, 1.0, 1.0, 1.0, 1.0, 1.0, 1.0, 1.0, 1.0, 1.0, 1.0, 1.0, 1.0, 1.0, 1.0, 1.0, 0.0, 0.0, 0.0, 1.0, 1.0, 1.0, 1.0, 1.0, 1.0, 1.0, 1.0, 1.0, 1.0, 1.0, 1.0, 1.0, 1.0, 1.0, 1.0, 1.0, 1.0, 1.0, 1.0, 1.0, 1.0, 1.0, 1.0, 1.0, 1.0, 1.0, 1.0, 1.0, 1.0, 0.0, 0.0, 0.0, 0.0, 0.0, 0.0, 0.0, 0.0, 0.0, 0.0, 0.0, 0.0, 0.0, 0.0, 0.0, 0.0, 0.0, 0.0, 0.0, 0.0, 0.0, 0.0, 0.0, 0.0, 0.0, 0.0, 0.0, 1.0, 1.0, 1.0, 0.0, 0.0, 0.0, 1.0, 1.0, 1.0, 1.0, 1.0, 1.0, 1.0, 1.0, 1.0, 1.0, 1.0, 1.0, 0.0, 0.0, 0.0, 1.0, 1.0, 1.0, 1.0, 1.0, 1.0, 1.0, 1.0, 1.0, 1.0, 1.0, 1.0, 1.0, 1.0, 1.0, 1.0, 1.0, 1.0, 1.0, 1.0, 1.0, 1.0, 1.0, 1.0, 1.0, 1.0, 1.0, 1.0, 1.0, 1.0, 1.0, 1.0, 1.0, 1.0, 1.0, 1.0, 1.0, 1.0, 1.0, 1.0, 1.0, 1.0, 1.0, 1.0, 1.0, 1.0, 1.0, 1.0, 1.0, 1.0, 1.0, 1.0, 1.0, 1.0, 1.0, 1.0, 1.0, 1.0, 1.0, 1.0, 1.0, 1.0, 1.0, 1.0, 1.0, 1.0, 1.0, 1.0, 1.0, 1.0, 1.0, 1.0, 0.0, 0.0, 0.0, 0.0, 0.0, 0.0, 0.0, 0.0, 0.0, 0.0, 0.0, 0.0, 0.0, 0.0, 0.0, 1.0, 1.0, 1.0, 0.0, 0.0, 0.0, 0.0, 0.0, 0.0, 0.0, 0.0, 0.0, 0.0, 0.0, 0.0, 1.0, 1.0, 1.0, 1.0, 1.0, 1.0, 1.0, 1.0, 1.0, 1.0, 1.0, 1.0, 1.0, 1.0, 1.0, 1.0, 1.0, 1.0, 1.0, 1.0, 1.0, 1.0, 1.0, 1.0, 1.0, 1.0, 1.0, 1.0, 1.0, 1.0, 1.0, 1.0, 1.0, 1.0, 1.0, 1.0, 1.0, 1.0, 1.0, 1.0, 1.0, 1.0, 1.0, 1.0, 1.0, 1.0, 1.0, 1.0, 1.0, 1.0, 1.0, 1.0, 1.0, 1.0, 1.0, 1.0, 1.0, 1.0, 1.0, 1.0, 0.0, 0.0, 0.0, 1.0, 1.0, 1.0, 0.0, 0.0, 0.0, 0.0, 0.0, 0.0, 0.0, 0.0, 0.0, 0.0, 0.0, 0.0, 0.0, 0.0, 0.0, 0.0, 0.0, 0.0, 0.0, 0.0, 0.0, 0.0, 0.0, 0.0, 0.0, 0.0, 1.0, 1.0, 1.0, 1.0, 1.0, 1.0, 1.0, 1.0, 1.0, 1.0, 1.0, 1.0, 1.0, 1.0, 1.0, 1.0, 1.0, 1.0, 1.0, 1.0, 1.0, 1.0, 1.0, 1.0, 1.0, 1.0, 1.0, 1.0, 1.0, 1.0, 1.0, 1.0, 1.0, 0.0, 0.0, 0.0, 0.0, 0.0, 0.0, 0.0, 0.0, 0.0, 0.0, 0.0, 0.0, 0.0, 0.0, 0.0, 0.0, 0.0, 0.0, 0.0, 0.0, 0.0, 0.0, 0.0, 0.0, 0.0, 0.0, 0.0, 0.0, 0.0, 0.0, 1.0, 1.0, 1.0, 1.0, 1.0, 1.0, 1.0, 1.0, 1.0, 1.0, 1.0, 1.0, 1.0, 1.0, 1.0, 1.0, 1.0, 1.0, 0.0, 0.0, 0.0, 0.0, 0.0, 0.0, 0.0, 0.0, 0.0, 0.0, 0.0, 0.0, 1.0, 1.0, 1.0, 1.0, 1.0, 1.0, 1.0, 1.0, 1.0, 0.0, 0.0, 0.0, 1.0, 1.0, 1.0, 1.0, 1.0, 1.0, 1.0, 1.0, 1.0, 1.0, 1.0, 1.0, 1.0, 1.0, 1.0, 1.0, 1.0, 1.0, 1.0, 1.0, 1.0, 1.0, 1.0, 1.0, 1.0, 1.0, 1.0, 1.0, 1.0, 1.0, 1.0, 1.0, 1.0, 0.0, 0.0, 0.0, 0.0, 0.0, 0.0, 0.0, 0.0, 0.0, 0.0, 0.0, 0.0, 0.0, 0.0, 0.0, 0.0, 0.0, 0.0, 0.0, 0.0, 0.0, 0.0, 0.0, 0.0, 0.0, 0.0, 0.0, 0.0, 0.0, 0.0, 1.0, 1.0, 1.0, 1.0, 1.0, 1.0, 1.0, 1.0, 1.0, 1.0, 1.0, 1.0, 1.0, 1.0, 1.0, 1.0, 1.0, 1.0, 0.0, 0.0, 0.0, 0.0, 0.0, 0.0, 0.0, 0.0, 0.0, 0.0, 0.0, 0.0, 1.0, 1.0, 1.0, 1.0, 1.0, 1.0, 1.0, 1.0, 1.0, 0.0, 0.0, 0.0, 1.0, 1.0, 1.0, 1.0, 1.0, 1.0, 1.0, 1.0, 1.0, 1.0, 1.0, 1.0, 1.0, 1.0, 1.0, 1.0, 1.0, 1.0, 1.0, 1.0, 1.0, 1.0, 1.0, 1.0, 1.0, 1.0, 1.0, 1.0, 1.0, 1.0, 1.0, 1.0, 1.0, 0.0, 0.0, 0.0, 0.0, 0.0, 0.0, 0.0, 0.0, 0.0, 0.0, 0.0, 0.0, 0.0, 0.0, 0.0, 0.0, 0.0, 0.0, 0.0, 0.0, 0.0, 0.0, 0.0, 0.0, 0.0, 0.0, 0.0, 0.0, 0.0, 0.0, 1.0, 1.0, 1.0, 1.0, 1.0, 1.0, 1.0, 1.0, 1.0, 1.0, 1.0, 1.0, 1.0, 1.0, 1.0, 1.0, 1.0, 1.0, 0.0, 0.0] \n",
            "\n"
          ],
          "name": "stdout"
        },
        {
          "output_type": "display_data",
          "data": {
            "image/png": "[encoded data removed]",
            "text/plain": [
              "<Figure size 1440x360 with 1 Axes>"
            ]
          },
          "metadata": {
            "tags": [],
            "needs_background": "light"
          }
        }
      ]
    }
  ]
}